{
 "cells": [
  {
   "cell_type": "markdown",
   "metadata": {
    "slideshow": {
     "slide_type": "slide"
    }
   },
   "source": [
    "알쓸파잡\n",
    "- **알**아두면\n",
    "- **쓸**데 있~~길 바라~~는\n",
    "- **파**이썬\n",
    "- **잡**기술\n",
    "\n",
    "난이도 ● ● ● ○ ○"
   ]
  },
  {
   "cell_type": "markdown",
   "metadata": {
    "slideshow": {
     "slide_type": "slide"
    }
   },
   "source": [
    "Python Standard Library 기준\n",
    "- https://docs.python.org/3/library/index.html\n",
    "- https://docs.python.org/3/tutorial/stdlib.html"
   ]
  },
  {
   "cell_type": "markdown",
   "metadata": {
    "slideshow": {
     "slide_type": "slide"
    }
   },
   "source": [
    "# Style Guide\n",
    "- [PEP 8 -- Style Guide for Python Code](https://www.python.org/dev/peps/pep-0008/)\n",
    "  - [PEP 8 핵심 요약](https://docs.python.org/ko/3/tutorial/controlflow.html#intermezzo-coding-style)\n",
    "  - https://artifex.org/~hblanks/talks/2011/pep20_by_example.pdf\n",
    "- [Google Python Style Guide](https://github.com/google/styleguide/blob/gh-pages/pyguide.md)\n",
    "  - https://sphinxcontrib-napoleon.readthedocs.io/en/latest/example_google.html\n",
    "- https://python-guide-kr.readthedocs.io/ko/latest/writing/style.html"
   ]
  },
  {
   "cell_type": "markdown",
   "metadata": {
    "slideshow": {
     "slide_type": "slide"
    }
   },
   "source": [
    "- Python Standard Library\n",
    "- Easter Egg\n",
    "  - Python Style Guide 관련 철학을 담고 있습니다."
   ]
  },
  {
   "cell_type": "code",
   "execution_count": null,
   "metadata": {
    "ExecuteTime": {
     "end_time": "2018-10-21T06:49:25.823445Z",
     "start_time": "2018-10-21T06:49:25.792493Z"
    },
    "scrolled": false,
    "slideshow": {
     "slide_type": "-"
    }
   },
   "outputs": [],
   "source": [
    "import this"
   ]
  },
  {
   "cell_type": "markdown",
   "metadata": {
    "slideshow": {
     "slide_type": "-"
    }
   },
   "source": [
    "# 몇 가지 built-in 함수"
   ]
  },
  {
   "cell_type": "markdown",
   "metadata": {
    "slideshow": {
     "slide_type": "-"
    }
   },
   "source": [
    "- `dir()`\n",
    "- `help()`"
   ]
  },
  {
   "cell_type": "markdown",
   "metadata": {
    "slideshow": {
     "slide_type": "slide"
    }
   },
   "source": [
    "`import` 로 라이브러리를 불러옵니다.\n",
    "\n",
    "`from ... import ...`으로 \n",
    "\n",
    "라이브러리 안에 있는 특정 함수를 불러옵니다."
   ]
  },
  {
   "cell_type": "markdown",
   "metadata": {
    "slideshow": {
     "slide_type": "slide"
    }
   },
   "source": [
    "# `random`"
   ]
  },
  {
   "cell_type": "code",
   "execution_count": null,
   "metadata": {
    "ExecuteTime": {
     "end_time": "2018-10-23T12:14:19.659819Z",
     "start_time": "2018-10-23T12:14:19.652838Z"
    },
    "slideshow": {
     "slide_type": "-"
    }
   },
   "outputs": [],
   "source": [
    "import random"
   ]
  },
  {
   "cell_type": "code",
   "execution_count": null,
   "metadata": {
    "ExecuteTime": {
     "end_time": "2018-10-23T12:16:40.838097Z",
     "start_time": "2018-10-23T12:16:40.833112Z"
    },
    "slideshow": {
     "slide_type": "-"
    }
   },
   "outputs": [],
   "source": [
    "random.random()    # 0 ≤ x < 1"
   ]
  },
  {
   "cell_type": "code",
   "execution_count": null,
   "metadata": {
    "ExecuteTime": {
     "end_time": "2018-10-23T12:17:17.921880Z",
     "start_time": "2018-10-23T12:17:17.916894Z"
    },
    "slideshow": {
     "slide_type": "-"
    }
   },
   "outputs": [],
   "source": [
    "random.randint(3, 5)    # 3 ≤ x ≤ 5 and x is int"
   ]
  },
  {
   "cell_type": "code",
   "execution_count": null,
   "metadata": {
    "ExecuteTime": {
     "end_time": "2018-10-23T12:21:42.384343Z",
     "start_time": "2018-10-23T12:21:42.380321Z"
    },
    "slideshow": {
     "slide_type": "subslide"
    }
   },
   "outputs": [],
   "source": [
    "chinese_food_list = [\n",
    "    '짜장면', '탕수육', '짬뽕',   '군만두', '볶음밥', \n",
    "    '울면',   '깐풍기', '양장피', '팔보채', '전가복'\n",
    "]"
   ]
  },
  {
   "cell_type": "code",
   "execution_count": null,
   "metadata": {
    "ExecuteTime": {
     "end_time": "2018-10-23T12:21:37.699843Z",
     "start_time": "2018-10-23T12:21:37.695855Z"
    },
    "slideshow": {
     "slide_type": "-"
    }
   },
   "outputs": [],
   "source": [
    "random.choice(chinese_food_list)"
   ]
  },
  {
   "cell_type": "code",
   "execution_count": null,
   "metadata": {
    "ExecuteTime": {
     "end_time": "2018-10-23T12:21:39.597765Z",
     "start_time": "2018-10-23T12:21:39.592780Z"
    },
    "slideshow": {
     "slide_type": "-"
    }
   },
   "outputs": [],
   "source": [
    "random.sample(chinese_food_list, 2)"
   ]
  },
  {
   "cell_type": "code",
   "execution_count": null,
   "metadata": {
    "ExecuteTime": {
     "end_time": "2018-10-23T12:21:40.246032Z",
     "start_time": "2018-10-23T12:21:40.242095Z"
    },
    "slideshow": {
     "slide_type": "-"
    }
   },
   "outputs": [],
   "source": [
    "random.shuffle(chinese_food_list)"
   ]
  },
  {
   "cell_type": "code",
   "execution_count": null,
   "metadata": {
    "ExecuteTime": {
     "end_time": "2018-10-23T12:21:43.402592Z",
     "start_time": "2018-10-23T12:21:43.398628Z"
    },
    "slideshow": {
     "slide_type": "-"
    }
   },
   "outputs": [],
   "source": [
    "chinese_food_list"
   ]
  },
  {
   "cell_type": "markdown",
   "metadata": {
    "slideshow": {
     "slide_type": "slide"
    }
   },
   "source": [
    "# `time`\n",
    "- Python Standard Library"
   ]
  },
  {
   "cell_type": "code",
   "execution_count": null,
   "metadata": {
    "ExecuteTime": {
     "end_time": "2018-10-22T13:10:12.892041Z",
     "start_time": "2018-10-22T13:10:09.882077Z"
    },
    "slideshow": {
     "slide_type": "-"
    }
   },
   "outputs": [],
   "source": [
    "import time\n",
    "\n",
    "\n",
    "for i in range(3):\n",
    "    print(i)\n",
    "    time.sleep(1)"
   ]
  },
  {
   "cell_type": "markdown",
   "metadata": {
    "slideshow": {
     "slide_type": "slide"
    }
   },
   "source": [
    "# `datetime`\n",
    "- Python Standard Library\n",
    "- 참조: [파이썬에서 날짜와 시간 다루기](https://datascienceschool.net/view-notebook/465066ac92ef4da3b0aba32f76d9750a/)"
   ]
  },
  {
   "cell_type": "code",
   "execution_count": null,
   "metadata": {
    "ExecuteTime": {
     "end_time": "2018-10-22T13:14:58.626555Z",
     "start_time": "2018-10-22T13:14:58.622550Z"
    },
    "slideshow": {
     "slide_type": "-"
    }
   },
   "outputs": [],
   "source": [
    "import datetime"
   ]
  },
  {
   "cell_type": "code",
   "execution_count": null,
   "metadata": {
    "ExecuteTime": {
     "end_time": "2018-10-22T13:14:58.836010Z",
     "start_time": "2018-10-22T13:14:58.832988Z"
    },
    "slideshow": {
     "slide_type": "-"
    }
   },
   "outputs": [],
   "source": [
    "dt = datetime.datetime.now()"
   ]
  },
  {
   "cell_type": "code",
   "execution_count": null,
   "metadata": {
    "ExecuteTime": {
     "end_time": "2018-10-22T13:15:05.175019Z",
     "start_time": "2018-10-22T13:15:05.163050Z"
    },
    "slideshow": {
     "slide_type": "-"
    }
   },
   "outputs": [],
   "source": [
    "dt"
   ]
  },
  {
   "cell_type": "code",
   "execution_count": null,
   "metadata": {
    "ExecuteTime": {
     "end_time": "2018-10-22T13:17:53.450829Z",
     "start_time": "2018-10-22T13:17:53.446808Z"
    },
    "slideshow": {
     "slide_type": "subslide"
    }
   },
   "outputs": [],
   "source": [
    "dt = datetime.datetime(2018, 10, 26, 13, 30)"
   ]
  },
  {
   "cell_type": "code",
   "execution_count": null,
   "metadata": {
    "ExecuteTime": {
     "end_time": "2018-10-22T13:17:53.829818Z",
     "start_time": "2018-10-22T13:17:53.824798Z"
    },
    "slideshow": {
     "slide_type": "-"
    }
   },
   "outputs": [],
   "source": [
    "dt.weekday()  # {0:월, 1:화, 2:수, 3:목, 4:금, 5:토, 6:일}"
   ]
  },
  {
   "cell_type": "code",
   "execution_count": null,
   "metadata": {
    "ExecuteTime": {
     "end_time": "2018-10-22T13:17:54.392279Z",
     "start_time": "2018-10-22T13:17:54.386295Z"
    },
    "slideshow": {
     "slide_type": "-"
    }
   },
   "outputs": [],
   "source": [
    "dt.year, dt.month, dt.day, dt.hour, dt.minute, dt.second, dt.microsecond"
   ]
  },
  {
   "cell_type": "code",
   "execution_count": null,
   "metadata": {
    "ExecuteTime": {
     "end_time": "2018-10-22T13:17:55.024622Z",
     "start_time": "2018-10-22T13:17:55.019601Z"
    },
    "slideshow": {
     "slide_type": "-"
    }
   },
   "outputs": [],
   "source": [
    "dt.isoformat()"
   ]
  },
  {
   "cell_type": "markdown",
   "metadata": {
    "slideshow": {
     "slide_type": "slide"
    }
   },
   "source": [
    "# `tqdm`\n",
    "- Custom Opensource Library\n",
    "- https://github.com/tqdm/tqdm\n",
    "- 설치: Anaconda Prompt 에서\n",
    "```bash\n",
    "conda install -c conda-forge tqdm\n",
    "```"
   ]
  },
  {
   "cell_type": "code",
   "execution_count": null,
   "metadata": {
    "ExecuteTime": {
     "end_time": "2018-10-22T13:19:03.245094Z",
     "start_time": "2018-10-22T13:18:59.858140Z"
    },
    "slideshow": {
     "slide_type": "subslide"
    }
   },
   "outputs": [],
   "source": [
    "from tqdm import tnrange, tqdm_notebook\n",
    "from time import sleep\n",
    "\n",
    "\n",
    "for i in tnrange(3, desc='1st loop'):\n",
    "    for j in tqdm_notebook(range(100), desc='2nd loop'):\n",
    "        sleep(0.01)"
   ]
  },
  {
   "cell_type": "markdown",
   "metadata": {
    "slideshow": {
     "slide_type": "slide"
    }
   },
   "source": [
    "# `list` of `lists` transpose"
   ]
  },
  {
   "cell_type": "code",
   "execution_count": null,
   "metadata": {
    "ExecuteTime": {
     "end_time": "2018-10-21T10:56:01.871842Z",
     "start_time": "2018-10-21T10:56:01.866856Z"
    },
    "slideshow": {
     "slide_type": "-"
    }
   },
   "outputs": [],
   "source": [
    "\"\"\"transpose 2d array [[a,b], [c,d], [e,f]] -> [[a,c,e], [b,d,f]]\"\"\"\n",
    "\n",
    "original = [['a', 'b'], ['c', 'd'], ['e', 'f']]\n",
    "transposed = zip(*original)\n",
    "print(list(transposed))"
   ]
  },
  {
   "cell_type": "markdown",
   "metadata": {
    "slideshow": {
     "slide_type": "slide"
    }
   },
   "source": [
    "# 각종 정렬"
   ]
  },
  {
   "cell_type": "markdown",
   "metadata": {
    "slideshow": {
     "slide_type": "slide"
    }
   },
   "source": [
    "## `list` of `lists` 정렬"
   ]
  },
  {
   "cell_type": "code",
   "execution_count": null,
   "metadata": {
    "ExecuteTime": {
     "end_time": "2018-10-22T13:20:06.088936Z",
     "start_time": "2018-10-22T13:20:06.070976Z"
    },
    "slideshow": {
     "slide_type": "-"
    }
   },
   "outputs": [],
   "source": [
    "from operator import itemgetter\n",
    "\n",
    "\n",
    "\n",
    "l1 = ['김 책임', '박 선임', '이 수석']\n",
    "l2 = ['orange', 'apple',  'pear']\n",
    "l3 = ['남',     '여',      '남']\n",
    "\n",
    "for v1, v2, v3 in sorted(zip(l1, l2, l3), key = itemgetter(1)):\n",
    "    print(v1, v2, v3)"
   ]
  },
  {
   "cell_type": "markdown",
   "metadata": {
    "slideshow": {
     "slide_type": "-"
    }
   },
   "source": [
    "과일 `list`인 `l2` 기준으로 정렬되었습니다."
   ]
  },
  {
   "cell_type": "code",
   "execution_count": null,
   "metadata": {
    "ExecuteTime": {
     "end_time": "2018-10-21T09:25:20.485548Z",
     "start_time": "2018-10-21T09:25:20.479564Z"
    },
    "slideshow": {
     "slide_type": "subslide"
    }
   },
   "outputs": [],
   "source": [
    "from operator import itemgetter\n",
    "\n",
    "\n",
    "\n",
    "list_of_lists = [\n",
    "    ('김 책임', 'orange', '남'), \n",
    "    ('박 선임', 'apple',  '여'), \n",
    "    ('이 수석', 'pear',   '남')\n",
    "]\n",
    "\n",
    "for v1, v2, v3 in sorted(list_of_lists, key = itemgetter(1)):\n",
    "    print(v1, v2, v3)"
   ]
  },
  {
   "cell_type": "markdown",
   "metadata": {
    "slideshow": {
     "slide_type": "-"
    }
   },
   "source": [
    "`zip()`을 사용하면 `l1` 처럼 묶입니다."
   ]
  },
  {
   "cell_type": "markdown",
   "metadata": {
    "slideshow": {
     "slide_type": "slide"
    }
   },
   "source": [
    "## `dict` sort by key"
   ]
  },
  {
   "cell_type": "code",
   "execution_count": null,
   "metadata": {
    "ExecuteTime": {
     "end_time": "2018-10-21T09:12:26.004133Z",
     "start_time": "2018-10-21T09:12:25.998149Z"
    },
    "slideshow": {
     "slide_type": "-"
    }
   },
   "outputs": [],
   "source": [
    "temp_dict = {\n",
    "    '박 선임': 70,\n",
    "    '김 책임': 80,\n",
    "    '이 수석': 90\n",
    "}\n",
    "\n",
    "for k, v in sorted(temp_dict.items()):\n",
    "    print(k, v)"
   ]
  },
  {
   "cell_type": "markdown",
   "metadata": {
    "slideshow": {
     "slide_type": "slide"
    }
   },
   "source": [
    "## `dict` sort by value"
   ]
  },
  {
   "cell_type": "code",
   "execution_count": null,
   "metadata": {
    "ExecuteTime": {
     "end_time": "2018-10-21T09:12:26.744837Z",
     "start_time": "2018-10-21T09:12:26.739850Z"
    },
    "slideshow": {
     "slide_type": "-"
    }
   },
   "outputs": [],
   "source": [
    "from operator import itemgetter\n",
    "\n",
    "\n",
    "temp_dict = {\n",
    "    '김 책임': 80,\n",
    "    '박 선임': 70,\n",
    "    '이 수석': 90\n",
    "}\n",
    "\n",
    "for k, v in sorted(temp_dict.items(), key = itemgetter(1)):\n",
    "    print(k, v)"
   ]
  },
  {
   "cell_type": "markdown",
   "metadata": {
    "slideshow": {
     "slide_type": "subslide"
    }
   },
   "source": [
    "# `collections`\n",
    "- Python Standard Library\n",
    "- 유용한 Data Strucuture 를 모아둔 것입니다.\n",
    "- 참조\n",
    "  - https://docs.python.org/3/library/collections.html"
   ]
  },
  {
   "cell_type": "markdown",
   "metadata": {
    "slideshow": {
     "slide_type": "subslide"
    }
   },
   "source": [
    "## `defaultdict`"
   ]
  },
  {
   "cell_type": "code",
   "execution_count": null,
   "metadata": {
    "ExecuteTime": {
     "end_time": "2018-10-22T13:21:16.946345Z",
     "start_time": "2018-10-22T13:21:16.940363Z"
    },
    "slideshow": {
     "slide_type": "-"
    }
   },
   "outputs": [],
   "source": [
    "from collections import defaultdict\n",
    "\n",
    "\n",
    "temp_dict = defaultdict(set)\n",
    "\n",
    "temp_dict['좋아하는 음식'].add('짬뽕')\n",
    "temp_dict['좋아하는 음식'].add('파스타')\n",
    "temp_dict['좋아하는 음식'].add('쌀국수')"
   ]
  },
  {
   "cell_type": "code",
   "execution_count": null,
   "metadata": {
    "ExecuteTime": {
     "end_time": "2018-10-22T13:21:17.334314Z",
     "start_time": "2018-10-22T13:21:17.329319Z"
    },
    "slideshow": {
     "slide_type": "-"
    }
   },
   "outputs": [],
   "source": [
    "temp_dict"
   ]
  },
  {
   "cell_type": "markdown",
   "metadata": {
    "slideshow": {
     "slide_type": "subslide"
    }
   },
   "source": [
    "### 1줄로 만드는 Tree 구조"
   ]
  },
  {
   "cell_type": "code",
   "execution_count": null,
   "metadata": {
    "ExecuteTime": {
     "end_time": "2018-10-21T10:46:36.141544Z",
     "start_time": "2018-10-21T10:46:36.135560Z"
    },
    "slideshow": {
     "slide_type": "-"
    }
   },
   "outputs": [],
   "source": [
    "\"\"\"\n",
    "See description here \n",
    "https://gist.github.com/hrldcpr/2012250\n",
    "\"\"\"\n",
    "\n",
    "from collections import defaultdict\n",
    "\n",
    "tree = lambda: defaultdict(tree)\n",
    "\n",
    "\n",
    "users = tree()\n",
    "users['harold']['username'] = 'chopper'\n",
    "users['matt']['password'] = 'hunter2'"
   ]
  },
  {
   "cell_type": "markdown",
   "metadata": {
    "slideshow": {
     "slide_type": "subslide"
    }
   },
   "source": [
    "## `Counter`"
   ]
  },
  {
   "cell_type": "code",
   "execution_count": null,
   "metadata": {
    "ExecuteTime": {
     "end_time": "2018-10-21T06:55:00.023149Z",
     "start_time": "2018-10-21T06:55:00.019192Z"
    },
    "slideshow": {
     "slide_type": "-"
    }
   },
   "outputs": [],
   "source": [
    "from collections import Counter"
   ]
  },
  {
   "cell_type": "code",
   "execution_count": null,
   "metadata": {
    "ExecuteTime": {
     "end_time": "2018-10-21T06:54:54.698637Z",
     "start_time": "2018-10-21T06:54:54.694646Z"
    },
    "slideshow": {
     "slide_type": "-"
    }
   },
   "outputs": [],
   "source": [
    "temp_list = ['a', 'b', 'a', 'c', 'd', 'e', 'd', 'b', 'a']"
   ]
  },
  {
   "cell_type": "code",
   "execution_count": null,
   "metadata": {
    "ExecuteTime": {
     "end_time": "2018-10-21T06:55:14.530315Z",
     "start_time": "2018-10-21T06:55:14.526325Z"
    },
    "slideshow": {
     "slide_type": "-"
    }
   },
   "outputs": [],
   "source": [
    "c = Counter(temp_list)"
   ]
  },
  {
   "cell_type": "code",
   "execution_count": null,
   "metadata": {
    "ExecuteTime": {
     "end_time": "2018-10-21T06:55:25.176391Z",
     "start_time": "2018-10-21T06:55:25.170416Z"
    },
    "slideshow": {
     "slide_type": "-"
    }
   },
   "outputs": [],
   "source": [
    "c.most_common(3)"
   ]
  },
  {
   "cell_type": "code",
   "execution_count": null,
   "metadata": {
    "ExecuteTime": {
     "end_time": "2018-10-21T06:55:56.096783Z",
     "start_time": "2018-10-21T06:55:56.090798Z"
    },
    "scrolled": false,
    "slideshow": {
     "slide_type": "-"
    }
   },
   "outputs": [],
   "source": [
    "c.keys()"
   ]
  },
  {
   "cell_type": "code",
   "execution_count": null,
   "metadata": {
    "ExecuteTime": {
     "end_time": "2018-10-21T06:56:00.389927Z",
     "start_time": "2018-10-21T06:56:00.383943Z"
    },
    "slideshow": {
     "slide_type": "-"
    }
   },
   "outputs": [],
   "source": [
    "c.values()"
   ]
  },
  {
   "cell_type": "markdown",
   "metadata": {
    "slideshow": {
     "slide_type": "slide"
    }
   },
   "source": [
    "# `itertools`\n",
    "- Python Standard Library\n",
    "- 반복 관련 라이브러리"
   ]
  },
  {
   "cell_type": "code",
   "execution_count": null,
   "metadata": {
    "ExecuteTime": {
     "end_time": "2018-10-22T13:23:02.311441Z",
     "start_time": "2018-10-22T13:23:02.307451Z"
    },
    "slideshow": {
     "slide_type": "-"
    }
   },
   "outputs": [],
   "source": [
    "import itertools"
   ]
  },
  {
   "cell_type": "markdown",
   "metadata": {
    "slideshow": {
     "slide_type": "subslide"
    }
   },
   "source": [
    "## `itertools.product` "
   ]
  },
  {
   "cell_type": "code",
   "execution_count": null,
   "metadata": {
    "ExecuteTime": {
     "end_time": "2018-10-22T13:23:06.504240Z",
     "start_time": "2018-10-22T13:23:06.470313Z"
    },
    "scrolled": true,
    "slideshow": {
     "slide_type": "-"
    }
   },
   "outputs": [],
   "source": [
    "for i1, i2 in itertools.product([0, 1, 2, 3], ['A', 'B', 'C']):\n",
    "    print(i1, i2)"
   ]
  },
  {
   "cell_type": "markdown",
   "metadata": {
    "slideshow": {
     "slide_type": "-"
    }
   },
   "source": [
    "2중 `for` 문 대신 쓰면 코드 가독성이 좋아집니다."
   ]
  },
  {
   "cell_type": "markdown",
   "metadata": {
    "slideshow": {
     "slide_type": "subslide"
    }
   },
   "source": [
    "## `itertools.combinations`\n",
    "조합"
   ]
  },
  {
   "cell_type": "code",
   "execution_count": null,
   "metadata": {
    "ExecuteTime": {
     "end_time": "2018-10-21T08:53:17.151005Z",
     "start_time": "2018-10-21T08:53:17.146995Z"
    },
    "slideshow": {
     "slide_type": "-"
    }
   },
   "outputs": [],
   "source": [
    "for i1, i2 in itertools.combinations([0, 1, 2, 3], 2):\n",
    "    print(i1, i2)"
   ]
  },
  {
   "cell_type": "markdown",
   "metadata": {
    "slideshow": {
     "slide_type": "-"
    }
   },
   "source": [
    "2중 `for` 문 대신 쓰면 코드 가독성이 좋아집니다."
   ]
  },
  {
   "cell_type": "markdown",
   "metadata": {
    "slideshow": {
     "slide_type": "subslide"
    }
   },
   "source": [
    "## `itertools.permutation`\n",
    "순열"
   ]
  },
  {
   "cell_type": "code",
   "execution_count": null,
   "metadata": {
    "ExecuteTime": {
     "end_time": "2018-10-21T08:58:38.707830Z",
     "start_time": "2018-10-21T08:58:38.702850Z"
    },
    "slideshow": {
     "slide_type": "-"
    }
   },
   "outputs": [],
   "source": [
    "for i1, i2 in itertools.permutations(['A', 'B', 'C'], 2):\n",
    "    print(i1, i2)"
   ]
  },
  {
   "cell_type": "markdown",
   "metadata": {
    "slideshow": {
     "slide_type": "-"
    }
   },
   "source": [
    "2중 `for` 문 대신 쓰면 코드 가독성이 좋아집니다."
   ]
  },
  {
   "cell_type": "markdown",
   "metadata": {
    "slideshow": {
     "slide_type": "subslide"
    }
   },
   "source": [
    "## `itertools.chain.from_iterable`\n",
    "`list` of `list`s 의 차원을 $n \\times 1$ 로 줄일 때 사용"
   ]
  },
  {
   "cell_type": "code",
   "execution_count": null,
   "metadata": {
    "ExecuteTime": {
     "end_time": "2018-10-22T13:23:12.632851Z",
     "start_time": "2018-10-22T13:23:12.629860Z"
    },
    "slideshow": {
     "slide_type": "-"
    }
   },
   "outputs": [],
   "source": [
    "list_of_lists = [ [1, 2, 3], [4, 5, 6] ]"
   ]
  },
  {
   "cell_type": "code",
   "execution_count": null,
   "metadata": {
    "ExecuteTime": {
     "end_time": "2018-10-22T13:23:12.839280Z",
     "start_time": "2018-10-22T13:23:12.834288Z"
    },
    "scrolled": false,
    "slideshow": {
     "slide_type": "-"
    }
   },
   "outputs": [],
   "source": [
    "itertools.chain.from_iterable(list_of_lists)"
   ]
  },
  {
   "cell_type": "code",
   "execution_count": null,
   "metadata": {
    "ExecuteTime": {
     "end_time": "2018-10-22T13:25:13.387769Z",
     "start_time": "2018-10-22T13:25:13.383758Z"
    },
    "slideshow": {
     "slide_type": "-"
    }
   },
   "outputs": [],
   "source": [
    "itertools.chain(*list_of_lists)"
   ]
  },
  {
   "cell_type": "code",
   "execution_count": null,
   "metadata": {
    "ExecuteTime": {
     "end_time": "2018-10-22T13:23:52.793376Z",
     "start_time": "2018-10-22T13:23:52.781409Z"
    },
    "slideshow": {
     "slide_type": "subslide"
    }
   },
   "outputs": [],
   "source": [
    "for v in itertools.chain.from_iterable(list_of_lists):\n",
    "    print(v)"
   ]
  },
  {
   "cell_type": "code",
   "execution_count": null,
   "metadata": {
    "ExecuteTime": {
     "end_time": "2018-10-22T13:24:21.704026Z",
     "start_time": "2018-10-22T13:24:21.692086Z"
    },
    "slideshow": {
     "slide_type": "-"
    }
   },
   "outputs": [],
   "source": [
    "for v in itertools.chain(*list_of_lists):\n",
    "    print(v)"
   ]
  },
  {
   "cell_type": "code",
   "execution_count": null,
   "metadata": {
    "ExecuteTime": {
     "end_time": "2018-10-21T08:52:00.339757Z",
     "start_time": "2018-10-21T08:52:00.333768Z"
    },
    "slideshow": {
     "slide_type": "-"
    }
   },
   "outputs": [],
   "source": [
    "list(itertools.chain.from_iterable([ [1, 2, 3], [4, 5, 6] ]))"
   ]
  },
  {
   "cell_type": "code",
   "execution_count": null,
   "metadata": {
    "ExecuteTime": {
     "end_time": "2018-10-22T13:24:42.217143Z",
     "start_time": "2018-10-22T13:24:42.212158Z"
    }
   },
   "outputs": [],
   "source": [
    "list(itertools.chain(*list_of_lists))"
   ]
  },
  {
   "cell_type": "markdown",
   "metadata": {
    "slideshow": {
     "slide_type": "subslide"
    }
   },
   "source": [
    "## `itertools.groupby`"
   ]
  },
  {
   "cell_type": "code",
   "execution_count": null,
   "metadata": {
    "ExecuteTime": {
     "end_time": "2018-10-21T09:00:11.206829Z",
     "start_time": "2018-10-21T09:00:11.200872Z"
    },
    "slideshow": {
     "slide_type": "-"
    }
   },
   "outputs": [],
   "source": [
    "seq = 'AAAABBBCCDAABBB'\n",
    "\n",
    "for k, g in itertools.groupby(seq):\n",
    "    print(k)\n",
    "    for v in g:\n",
    "        print('   ', v)"
   ]
  },
  {
   "cell_type": "markdown",
   "metadata": {
    "slideshow": {
     "slide_type": "slide"
    }
   },
   "source": [
    "아래와 같이 \n",
    "\n",
    "점수 범위에 따라 등급을 매기는 문제가 주어지면 \n",
    "\n",
    "어떻게 구현해야할까?\n",
    "\n",
    "| 등급   | 점수 범위        |\n",
    "|-------|:----------------|\n",
    "| F     | $ \\qquad \\ s < 60$ |\n",
    "| D     | $60 \\le s < 70$ |\n",
    "| C     | $70 \\le s < 80$ |\n",
    "| B     | $80 \\le s < 90$ |\n",
    "| A     | $90 < s \\qquad \\ $     |"
   ]
  },
  {
   "cell_type": "code",
   "execution_count": null,
   "metadata": {
    "ExecuteTime": {
     "start_time": "2018-10-22T13:03:10.324Z"
    }
   },
   "outputs": [],
   "source": [
    "!conda install -c conda-forge tqdm"
   ]
  },
  {
   "cell_type": "markdown",
   "metadata": {
    "slideshow": {
     "slide_type": "slide"
    }
   },
   "source": [
    "# `bisect`: 이진 검색"
   ]
  },
  {
   "cell_type": "code",
   "execution_count": null,
   "metadata": {
    "ExecuteTime": {
     "end_time": "2018-10-21T09:28:31.796309Z",
     "start_time": "2018-10-21T09:28:31.791321Z"
    },
    "slideshow": {
     "slide_type": "subslide"
    }
   },
   "outputs": [],
   "source": [
    "import bisect\n",
    "\n",
    "\n",
    "def grade(score, breakpoints=[60,70,80,90], grades='FDCBA'):\n",
    "    i = bisect.bisect(breakpoints, score)\n",
    "    return grades[i]"
   ]
  },
  {
   "cell_type": "code",
   "execution_count": null,
   "metadata": {
    "ExecuteTime": {
     "end_time": "2018-10-21T09:28:32.774983Z",
     "start_time": "2018-10-21T09:28:32.768001Z"
    },
    "slideshow": {
     "slide_type": "-"
    }
   },
   "outputs": [],
   "source": [
    "[grade(score) for score in [33, 99, 77, 70, 89, 90, 100]]"
   ]
  },
  {
   "cell_type": "markdown",
   "metadata": {
    "slideshow": {
     "slide_type": "-"
    }
   },
   "source": [
    "참조: https://docs.python.org/3/library/bisect.html"
   ]
  },
  {
   "cell_type": "markdown",
   "metadata": {
    "slideshow": {
     "slide_type": "slide"
    }
   },
   "source": [
    "# Pillow\n",
    "- Custom Opensource Library\n",
    "  - Anaconda Distribution 에 포함된 Custom Library\n",
    "- 이미지 다룰 때 씁니다."
   ]
  },
  {
   "cell_type": "code",
   "execution_count": null,
   "metadata": {
    "ExecuteTime": {
     "end_time": "2018-10-23T12:25:42.714306Z",
     "start_time": "2018-10-23T12:25:42.587648Z"
    },
    "slideshow": {
     "slide_type": "-"
    }
   },
   "outputs": [],
   "source": [
    "from PIL import Image"
   ]
  },
  {
   "cell_type": "code",
   "execution_count": null,
   "metadata": {
    "ExecuteTime": {
     "end_time": "2018-10-23T12:25:43.039444Z",
     "start_time": "2018-10-23T12:25:42.888840Z"
    },
    "slideshow": {
     "slide_type": "-"
    }
   },
   "outputs": [],
   "source": [
    "# Public domain image from https://www.pexels.com/photo/high-angle-photo-of-mountain-cover-with-clouds-994883/\n",
    "img = Image.open('pexels-photo-994883.jpg')"
   ]
  },
  {
   "cell_type": "code",
   "execution_count": null,
   "metadata": {
    "ExecuteTime": {
     "end_time": "2018-10-22T13:34:54.141276Z",
     "start_time": "2018-10-22T13:34:53.988658Z"
    },
    "slideshow": {
     "slide_type": "-"
    }
   },
   "outputs": [],
   "source": [
    "img"
   ]
  },
  {
   "cell_type": "markdown",
   "metadata": {},
   "source": [
    "# `io`\n",
    "- Python Standard Library"
   ]
  },
  {
   "cell_type": "code",
   "execution_count": null,
   "metadata": {
    "ExecuteTime": {
     "end_time": "2018-10-22T13:57:30.281060Z",
     "start_time": "2018-10-22T13:57:30.278070Z"
    },
    "slideshow": {
     "slide_type": "-"
    }
   },
   "outputs": [],
   "source": [
    "# In-memory binary streams\n",
    "b_io = io.BytesIO()"
   ]
  },
  {
   "cell_type": "code",
   "execution_count": null,
   "metadata": {
    "ExecuteTime": {
     "end_time": "2018-10-22T13:57:31.196611Z",
     "start_time": "2018-10-22T13:57:31.192623Z"
    }
   },
   "outputs": [],
   "source": [
    "img_buf = b_io.getbuffer()"
   ]
  },
  {
   "cell_type": "markdown",
   "metadata": {
    "slideshow": {
     "slide_type": "slide"
    }
   },
   "source": [
    "# base64\n",
    "- Python Standard Library"
   ]
  },
  {
   "cell_type": "code",
   "execution_count": null,
   "metadata": {
    "ExecuteTime": {
     "end_time": "2018-10-22T13:36:24.264124Z",
     "start_time": "2018-10-22T13:36:24.261157Z"
    },
    "slideshow": {
     "slide_type": "-"
    }
   },
   "outputs": [],
   "source": [
    "import base64"
   ]
  },
  {
   "cell_type": "code",
   "execution_count": null,
   "metadata": {
    "ExecuteTime": {
     "end_time": "2018-10-22T13:54:18.625840Z",
     "start_time": "2018-10-22T13:54:18.621872Z"
    },
    "slideshow": {
     "slide_type": "-"
    }
   },
   "outputs": [],
   "source": [
    "img_b64 = base64.b64encode(img_buf)"
   ]
  },
  {
   "cell_type": "code",
   "execution_count": null,
   "metadata": {
    "ExecuteTime": {
     "end_time": "2018-10-22T13:54:19.845571Z",
     "start_time": "2018-10-22T13:54:19.840585Z"
    },
    "slideshow": {
     "slide_type": "-"
    }
   },
   "outputs": [],
   "source": [
    "img_b64[:100]"
   ]
  },
  {
   "cell_type": "code",
   "execution_count": null,
   "metadata": {
    "ExecuteTime": {
     "end_time": "2018-10-22T13:46:28.078665Z",
     "start_time": "2018-10-22T13:46:28.074656Z"
    },
    "slideshow": {
     "slide_type": "subslide"
    }
   },
   "outputs": [],
   "source": [
    "from IPython.display import display, HTML"
   ]
  },
  {
   "cell_type": "code",
   "execution_count": null,
   "metadata": {
    "ExecuteTime": {
     "end_time": "2018-10-22T13:54:24.226848Z",
     "start_time": "2018-10-22T13:54:24.222887Z"
    },
    "slideshow": {
     "slide_type": "-"
    }
   },
   "outputs": [],
   "source": [
    "img_src_str = img_b64.decode('utf-8')"
   ]
  },
  {
   "cell_type": "code",
   "execution_count": null,
   "metadata": {
    "ExecuteTime": {
     "end_time": "2018-10-22T13:54:25.073582Z",
     "start_time": "2018-10-22T13:54:25.066601Z"
    },
    "slideshow": {
     "slide_type": "-"
    }
   },
   "outputs": [],
   "source": [
    "# ' 와 \" 에 주의합시다. \n",
    "HTML('<img src=\"data:image/jpeg;base64,%s\">' % img_src_str)"
   ]
  },
  {
   "cell_type": "markdown",
   "metadata": {
    "slideshow": {
     "slide_type": "slide"
    }
   },
   "source": [
    "# `json`\n",
    "- Python Standard Library"
   ]
  },
  {
   "cell_type": "code",
   "execution_count": null,
   "metadata": {
    "ExecuteTime": {
     "end_time": "2018-10-22T14:00:10.233891Z",
     "start_time": "2018-10-22T14:00:10.223916Z"
    },
    "slideshow": {
     "slide_type": "-"
    }
   },
   "outputs": [],
   "source": [
    "import json\n",
    "\n",
    "\n",
    "temp_dict = {\n",
    "    '김 책임': 'M+',\n",
    "    '박 선임': 'M',\n",
    "    '이 수석': 'E'\n",
    "}\n",
    "\n",
    "with open('tmp.json', 'w') as json_file:\n",
    "    json.dump(temp_dict, json_file)"
   ]
  },
  {
   "cell_type": "code",
   "execution_count": null,
   "metadata": {
    "ExecuteTime": {
     "end_time": "2018-10-22T14:00:54.562293Z",
     "start_time": "2018-10-22T14:00:54.556306Z"
    },
    "slideshow": {
     "slide_type": "subslide"
    }
   },
   "outputs": [],
   "source": [
    "with open('tmp.json') as json_file:\n",
    "    temp_dict_from_file = json.load(json_file)"
   ]
  },
  {
   "cell_type": "code",
   "execution_count": null,
   "metadata": {
    "ExecuteTime": {
     "end_time": "2018-10-22T14:00:57.645065Z",
     "start_time": "2018-10-22T14:00:57.640056Z"
    },
    "slideshow": {
     "slide_type": "-"
    }
   },
   "outputs": [],
   "source": [
    "temp_dict_from_file"
   ]
  },
  {
   "cell_type": "markdown",
   "metadata": {
    "slideshow": {
     "slide_type": "slide"
    }
   },
   "source": [
    "# Regular Expression\n",
    "- 정규 표현식(Regular Expression)\n",
    "- 아래 주소 참조하세요\n",
    "  - https://wikidocs.net/1642\n",
    "  - https://docs.python.org/3/library/re.html"
   ]
  },
  {
   "cell_type": "markdown",
   "metadata": {
    "slideshow": {
     "slide_type": "skip"
    }
   },
   "source": [
    "# `xml`\n",
    "- Python Standard Library\n",
    "- https://docs.python.org/3/library/xml.html"
   ]
  },
  {
   "cell_type": "markdown",
   "metadata": {
    "slideshow": {
     "slide_type": "skip"
    }
   },
   "source": [
    "# `zlib`\n",
    "- Python Standard Library\n",
    "- 압축 관련\n",
    "- https://docs.python.org/3/library/zlib.html"
   ]
  },
  {
   "cell_type": "code",
   "execution_count": null,
   "metadata": {
    "ExecuteTime": {
     "end_time": "2018-10-13T14:17:27.405155Z",
     "start_time": "2018-10-13T14:17:27.401167Z"
    },
    "slideshow": {
     "slide_type": "skip"
    }
   },
   "outputs": [],
   "source": [
    "import zlib"
   ]
  },
  {
   "cell_type": "markdown",
   "metadata": {
    "slideshow": {
     "slide_type": "skip"
    }
   },
   "source": [
    "# Python Tricks 101\n",
    "출처\n",
    "- https://github.com/brennerm/PyTricks"
   ]
  },
  {
   "cell_type": "markdown",
   "metadata": {
    "slideshow": {
     "slide_type": "skip"
    }
   },
   "source": [
    "# Python Performance Tips\n",
    "- https://wiki.python.org/moin/PythonSpeed/PerformanceTips\n",
    "- http://www.monitis.com/blog/python-performance-tips-part-1/\n",
    "- http://www.monitis.com/blog/python-performance-tips-part-2/\n",
    "- http://www.monitis.com/blog/7-ways-to-improve-your-python-performance/\n",
    "- https://dziganto.github.io/python/Faster-Python-Tips-And-Tricks/"
   ]
  },
  {
   "cell_type": "markdown",
   "metadata": {
    "slideshow": {
     "slide_type": "slide"
    }
   },
   "source": [
    "기타 조언\n",
    "- 기존 본인 코드를 파이썬으로 바꿔봅시다.\n",
    "- Google 검색할 때 영어로 합시다.\n",
    "- **파이썬 커뮤니티를 파악합시다.**\n",
    "  - 문법 지식보다 더 중요합니다.\n",
    "  - PyCon, PyData, JupyterCon, ..."
   ]
  },
  {
   "cell_type": "markdown",
   "metadata": {
    "slideshow": {
     "slide_type": "slide"
    }
   },
   "source": [
    "중/고급 자료\n",
    "- https://docs.python-guide.org/\n",
    "- http://shop.oreilly.com/product/0636920032519.do"
   ]
  }
 ],
 "metadata": {
  "celltoolbar": "Slideshow",
  "kernelspec": {
   "display_name": "Python 3",
   "language": "python",
   "name": "python3"
  },
  "language_info": {
   "codemirror_mode": {
    "name": "ipython",
    "version": 3
   },
   "file_extension": ".py",
   "mimetype": "text/x-python",
   "name": "python",
   "nbconvert_exporter": "python",
   "pygments_lexer": "ipython3",
   "version": "3.7.0"
  },
  "livereveal": {
   "scroll": true,
   "theme": "simple",
   "transition": "convex"
  },
  "toc": {
   "base_numbering": "0",
   "nav_menu": {},
   "number_sections": true,
   "sideBar": true,
   "skip_h1_title": false,
   "title_cell": "Table of Contents",
   "title_sidebar": "Contents",
   "toc_cell": false,
   "toc_position": {
    "height": "calc(100% - 180px)",
    "left": "10px",
    "top": "150px",
    "width": "307.2px"
   },
   "toc_section_display": true,
   "toc_window_display": true
  }
 },
 "nbformat": 4,
 "nbformat_minor": 2
}
