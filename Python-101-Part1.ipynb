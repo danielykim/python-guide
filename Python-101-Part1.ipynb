{
 "cells": [
  {
   "cell_type": "markdown",
   "metadata": {
    "slideshow": {
     "slide_type": "slide"
    }
   },
   "source": [
    "실용주의 파이썬 101 - Part 1\n",
    "\n",
    "2018-10-26"
   ]
  },
  {
   "cell_type": "markdown",
   "metadata": {
    "slideshow": {
     "slide_type": "slide"
    }
   },
   "source": [
    "Why Python?"
   ]
  },
  {
   "cell_type": "markdown",
   "metadata": {
    "slideshow": {
     "slide_type": "slide"
    }
   },
   "source": [
    "파이썬 쓰는 사람들은 뭐하나요?\n",
    "\n",
    "https://www.jetbrains.com/research/python-developers-survey-2017/#types-of-development"
   ]
  },
  {
   "cell_type": "markdown",
   "metadata": {
    "slideshow": {
     "slide_type": "slide"
    }
   },
   "source": [
    "[김영호](https://www.linkedin.com/in/danielyounghokim/)\n",
    "\n",
    "파이썬 경력 (2011 ~ 현재)"
   ]
  },
  {
   "cell_type": "markdown",
   "metadata": {
    "slideshow": {
     "slide_type": "slide"
    }
   },
   "source": [
    "<img src=\"http://danielykim.me/images/what-do-you-use-Python-for.png\">"
   ]
  },
  {
   "cell_type": "markdown",
   "metadata": {
    "slideshow": {
     "slide_type": "slide"
    }
   },
   "source": [
    "- ETL\n",
    "- Data Wrangling/Tidying (aggregation, pivot, ...)\n",
    "- Data Visualization\n",
    "- Data Modeling (ML/DL, maths, ...)"
   ]
  },
  {
   "cell_type": "markdown",
   "metadata": {
    "slideshow": {
     "slide_type": "subslide"
    }
   },
   "source": [
    "\n",
    "목표\n",
    "- Learn built-in things\n",
    "- How to write code in a pythonic way\n"
   ]
  },
  {
   "cell_type": "markdown",
   "metadata": {
    "slideshow": {
     "slide_type": "subslide"
    }
   },
   "source": [
    "내용\n",
    "- 실용적\n",
    "- 간결함\n",
    "\n",
    "난이도 ★★☆☆☆"
   ]
  },
  {
   "cell_type": "markdown",
   "metadata": {
    "slideshow": {
     "slide_type": "skip"
    }
   },
   "source": [
    "# Jupyter notebook\n",
    "## 단축키(shortcuts)\n",
    "여기에서 소개하는 단축키는 기본 설정값입니다.\n",
    "\n",
    "모두 원하는대로 바꿀 수 있습니다."
   ]
  },
  {
   "cell_type": "markdown",
   "metadata": {
    "ExecuteTime": {
     "end_time": "2018-10-21T01:24:52.896358Z",
     "start_time": "2018-10-21T01:24:52.889357Z"
    },
    "slideshow": {
     "slide_type": "skip"
    }
   },
   "source": [
    "### Cell 모드 관련\n",
    "- **편집 모드:** Cell 왼쪽이 연한 녹색으로 강조됨\n",
    "- **이동 모드:** Cell 왼쪽이 연한 파란색으로 강조됨\n",
    "\n",
    "- 모드 변경\n",
    "  - 편집 모드 → 이동 모드: 편집하고 있던 Cell에서 `ESC` \n",
    "  - 이동 모드 → 편집 모드: 원하는 Cell로 이동 → `ENTER`"
   ]
  },
  {
   "cell_type": "markdown",
   "metadata": {
    "slideshow": {
     "slide_type": "skip"
    }
   },
   "source": [
    "\n",
    "### 이동 모드 상태에서 가능한 작업\n",
    "**이동 모드**에서 할 수 있는 Cell 관련 작업\n",
    "- Cell 타입 변경\n",
    "- Cell 추가\n",
    "- Cell 삭제\n",
    "- Cell 복사 & 붙여넣기"
   ]
  },
  {
   "cell_type": "markdown",
   "metadata": {
    "slideshow": {
     "slide_type": "skip"
    }
   },
   "source": [
    "#### Cell 타입 변경\n",
    "- Markdown Cell: `m`\n",
    "- 코드 Cell: `y`"
   ]
  },
  {
   "cell_type": "markdown",
   "metadata": {
    "slideshow": {
     "slide_type": "skip"
    }
   },
   "source": [
    "\n",
    "#### Cell 추가\n",
    "- Cell 위에 추가 : `a` (add a cell above)\n",
    "- Cell 아래에 추가 : `b` (add a cell below)"
   ]
  },
  {
   "cell_type": "markdown",
   "metadata": {
    "slideshow": {
     "slide_type": "skip"
    }
   },
   "source": [
    "\n",
    "#### Cell 삭제\n",
    "- `dd`: `d`를 2번 연속으로 입력하여 삭제 가능\n",
    "  - `SHIFT`로 연이은 Cell을 선택하고 `dd`로 여러 Cell 한 번에 삭제 가능"
   ]
  },
  {
   "cell_type": "markdown",
   "metadata": {
    "slideshow": {
     "slide_type": "skip"
    }
   },
   "source": [
    "\n",
    "#### Cell 복사 & 붙여넣기\n",
    "- `c`: 현재 Cell을 복사\n",
    "- `v`: 소문자 `v` 복사한 Cell을 현재 Cell 아래에 붙여넣기\n",
    "- `V`: 대문자 `V` 복사한 Cell을 현재 Cell 위에 붙여넣기\n",
    "\n",
    "#### Cell 관련 작업 취소\n",
    "- `z`"
   ]
  },
  {
   "cell_type": "markdown",
   "metadata": {
    "slideshow": {
     "slide_type": "skip"
    }
   },
   "source": [
    "\n",
    "### 편집 모드 관련\n",
    "#### 단어 이동\n",
    "`CTRL` 누른 상태에서 화살표로 이동\n",
    "\n",
    "#### 주석 처리: `CTRL + /`\n",
    "- `SHIFT` 누른 상태에서 화살표로 원하는 범위 선택하여 여러 줄을 동시에 주석처리할 수도 있다.\n",
    "\n",
    "#### 동시 편집\n",
    "  - `CTRL` 누른 상태에서 원하는 위치 클릭 → 동시 편집 가능\n"
   ]
  },
  {
   "cell_type": "markdown",
   "metadata": {
    "slideshow": {
     "slide_type": "skip"
    }
   },
   "source": [
    "## Cell 기능\n",
    "`!`후에 명령 프롬프트에서 사용할 수 있는 명령을 입력할 수 있습니다."
   ]
  },
  {
   "cell_type": "code",
   "execution_count": null,
   "metadata": {
    "ExecuteTime": {
     "end_time": "2018-10-21T10:20:30.414991Z",
     "start_time": "2018-10-21T10:20:30.318220Z"
    },
    "slideshow": {
     "slide_type": "skip"
    }
   },
   "outputs": [],
   "source": [
    "!dir"
   ]
  },
  {
   "cell_type": "markdown",
   "metadata": {
    "slideshow": {
     "slide_type": "slide"
    }
   },
   "source": [
    "# 안녕하세요"
   ]
  },
  {
   "cell_type": "code",
   "execution_count": null,
   "metadata": {
    "ExecuteTime": {
     "end_time": "2018-10-13T08:41:15.970388Z",
     "start_time": "2018-10-13T08:41:15.966380Z"
    },
    "slideshow": {
     "slide_type": "-"
    }
   },
   "outputs": [],
   "source": [
    "print('Hello!')"
   ]
  },
  {
   "cell_type": "markdown",
   "metadata": {
    "slideshow": {
     "slide_type": "-"
    }
   },
   "source": [
    "UTF-8 도 지원합니다."
   ]
  },
  {
   "cell_type": "code",
   "execution_count": null,
   "metadata": {
    "ExecuteTime": {
     "end_time": "2018-10-13T08:41:14.172175Z",
     "start_time": "2018-10-13T08:41:14.167217Z"
    },
    "slideshow": {
     "slide_type": "-"
    }
   },
   "outputs": [],
   "source": [
    "print('안녕하세요!')"
   ]
  },
  {
   "cell_type": "markdown",
   "metadata": {
    "slideshow": {
     "slide_type": "-"
    }
   },
   "source": [
    "`print` 함수 안에 문자열 변수가 들어갔다고 볼 수 있습니다."
   ]
  },
  {
   "cell_type": "markdown",
   "metadata": {
    "slideshow": {
     "slide_type": "subslide"
    }
   },
   "source": [
    "여러 문자열 변수를 `,`로 구분하여 여러개 넣을 수도 있습니다."
   ]
  },
  {
   "cell_type": "code",
   "execution_count": null,
   "metadata": {
    "ExecuteTime": {
     "end_time": "2018-10-21T01:39:18.156362Z",
     "start_time": "2018-10-21T01:39:18.152373Z"
    },
    "slideshow": {
     "slide_type": "-"
    }
   },
   "outputs": [],
   "source": [
    "print('a', 'bb', 'ccc')"
   ]
  },
  {
   "cell_type": "markdown",
   "metadata": {
    "slideshow": {
     "slide_type": "subslide"
    }
   },
   "source": [
    "## 주석 처리"
   ]
  },
  {
   "cell_type": "code",
   "execution_count": null,
   "metadata": {
    "ExecuteTime": {
     "end_time": "2018-10-24T02:44:48.702975Z",
     "start_time": "2018-10-24T02:44:48.688030Z"
    },
    "slideshow": {
     "slide_type": "-"
    }
   },
   "outputs": [],
   "source": [
    "# 1줄 주석\n",
    "\n",
    "'''\n",
    "주석을 여러줄로\n",
    "길게 작성할 때\n",
    "'''\n",
    "\n",
    "\"\"\"\n",
    "주석을 여러줄로\n",
    "길게 작성할 때\n",
    "\"\"\""
   ]
  },
  {
   "cell_type": "markdown",
   "metadata": {
    "slideshow": {
     "slide_type": "slide"
    }
   },
   "source": [
    "그럼 이제 문자열부터 시작해서 변수 종류를 살펴보겠습니다."
   ]
  },
  {
   "cell_type": "markdown",
   "metadata": {
    "slideshow": {
     "slide_type": "slide"
    }
   },
   "source": [
    "# 변수(Variable)\n",
    "- 작명 스타일\n",
    "  - abc_def = ... (o)\n",
    "  - abcDef=...    (x)\n",
    "- 예약어는 피해서\n",
    "  - [Built-in Functions](https://docs.python.org/3/library/functions.html)\n",
    "- 첫 글자 숫자 안 됨\n",
    "- Dynamic typing\n",
    "- 형 확인: `type()`"
   ]
  },
  {
   "cell_type": "markdown",
   "metadata": {
    "slideshow": {
     "slide_type": "slide"
    }
   },
   "source": [
    "## 문자열: `str`"
   ]
  },
  {
   "cell_type": "markdown",
   "metadata": {
    "slideshow": {
     "slide_type": "subslide"
    }
   },
   "source": [
    "### 문자열 정의"
   ]
  },
  {
   "cell_type": "markdown",
   "metadata": {
    "slideshow": {
     "slide_type": "-"
    }
   },
   "source": [
    "#### 1줄"
   ]
  },
  {
   "cell_type": "code",
   "execution_count": null,
   "metadata": {
    "ExecuteTime": {
     "end_time": "2018-10-13T10:30:24.030057Z",
     "start_time": "2018-10-13T10:30:24.025089Z"
    },
    "slideshow": {
     "slide_type": "-"
    }
   },
   "outputs": [],
   "source": [
    "one_line_str = '안녕하세요!'\n",
    "print(one_line_str)"
   ]
  },
  {
   "cell_type": "markdown",
   "metadata": {
    "slideshow": {
     "slide_type": "subslide"
    }
   },
   "source": [
    "`oneLineStr` 대신 `one_line_str` 방식의 스타일로 변수 이름을 지정합니다.\n",
    "\n",
    "다음과 같이 `'` 대신 `\"` 을 사용하여 정의할 수도 있습니다."
   ]
  },
  {
   "cell_type": "code",
   "execution_count": null,
   "metadata": {
    "ExecuteTime": {
     "end_time": "2018-10-13T11:07:42.720613Z",
     "start_time": "2018-10-13T11:07:42.716622Z"
    },
    "slideshow": {
     "slide_type": "-"
    }
   },
   "outputs": [],
   "source": [
    "one_line_str = \"안녕하세요!\"\n",
    "print(one_line_str)"
   ]
  },
  {
   "cell_type": "markdown",
   "metadata": {
    "slideshow": {
     "slide_type": "subslide"
    }
   },
   "source": [
    "사실 Jupyter notebook 에서는 `print` 를 사용하지 않아도 변수 내용을 다음과 같이 볼 수 있습니다."
   ]
  },
  {
   "cell_type": "code",
   "execution_count": null,
   "metadata": {
    "ExecuteTime": {
     "end_time": "2018-10-13T11:07:43.229250Z",
     "start_time": "2018-10-13T11:07:43.223268Z"
    },
    "slideshow": {
     "slide_type": "-"
    }
   },
   "outputs": [],
   "source": [
    "one_line_str"
   ]
  },
  {
   "cell_type": "markdown",
   "metadata": {
    "slideshow": {
     "slide_type": "-"
    }
   },
   "source": [
    "자칫하면 스파게티 코드가 되기 쉬우니 조심해야 합니다."
   ]
  },
  {
   "cell_type": "markdown",
   "metadata": {
    "slideshow": {
     "slide_type": "subslide"
    }
   },
   "source": [
    "#### 여러 줄"
   ]
  },
  {
   "cell_type": "code",
   "execution_count": null,
   "metadata": {
    "ExecuteTime": {
     "end_time": "2018-10-22T12:59:55.596000Z",
     "start_time": "2018-10-22T12:59:55.592010Z"
    },
    "slideshow": {
     "slide_type": "-"
    }
   },
   "outputs": [],
   "source": [
    "multi_line_str = '''\n",
    "\n",
    "이름: 김영호\n",
    "직급: 책임컨설턴트\n",
    "소속: 데이터분석그룹\n",
    "\n",
    "'''"
   ]
  },
  {
   "cell_type": "code",
   "execution_count": null,
   "metadata": {
    "ExecuteTime": {
     "end_time": "2018-10-22T12:59:56.462682Z",
     "start_time": "2018-10-22T12:59:56.459728Z"
    },
    "slideshow": {
     "slide_type": "-"
    }
   },
   "outputs": [],
   "source": [
    "print(multi_line_str)"
   ]
  },
  {
   "cell_type": "code",
   "execution_count": null,
   "metadata": {
    "ExecuteTime": {
     "end_time": "2018-10-22T12:59:59.787785Z",
     "start_time": "2018-10-22T12:59:59.777838Z"
    },
    "slideshow": {
     "slide_type": "-"
    }
   },
   "outputs": [],
   "source": [
    "multi_line_str"
   ]
  },
  {
   "cell_type": "markdown",
   "metadata": {
    "slideshow": {
     "slide_type": "subslide"
    }
   },
   "source": [
    "#### 문자열 종류"
   ]
  },
  {
   "cell_type": "markdown",
   "metadata": {
    "slideshow": {
     "slide_type": "-"
    }
   },
   "source": [
    "Binary string 과 정규 표현식(Regular expression)\n",
    "\n",
    "Binary string 을 정의할 때는 앞에 `b`가 붙습니다."
   ]
  },
  {
   "cell_type": "code",
   "execution_count": null,
   "metadata": {
    "ExecuteTime": {
     "end_time": "2018-10-13T12:33:04.482175Z",
     "start_time": "2018-10-13T12:33:04.478212Z"
    },
    "slideshow": {
     "slide_type": "-"
    }
   },
   "outputs": [],
   "source": [
    "binary_str = b'I am text.'"
   ]
  },
  {
   "cell_type": "code",
   "execution_count": null,
   "metadata": {
    "ExecuteTime": {
     "end_time": "2018-10-13T12:33:13.544927Z",
     "start_time": "2018-10-13T12:33:13.539942Z"
    },
    "scrolled": true,
    "slideshow": {
     "slide_type": "-"
    }
   },
   "outputs": [],
   "source": [
    "binary_str.decode('utf-8')"
   ]
  },
  {
   "cell_type": "markdown",
   "metadata": {
    "ExecuteTime": {
     "end_time": "2018-10-13T12:36:43.906464Z",
     "start_time": "2018-10-13T12:36:43.900481Z"
    },
    "slideshow": {
     "slide_type": "-"
    }
   },
   "source": [
    "정규 표현식을 정의할 때는 앞에 `r`이 붙습니다.\n",
    "```python\n",
    "r'\\d{1,3}$'\n",
    "```\n",
    "정규 표현식 관련 내용은 뒤에서 다루겠습니다."
   ]
  },
  {
   "cell_type": "markdown",
   "metadata": {
    "slideshow": {
     "slide_type": "subslide"
    }
   },
   "source": [
    "#### String Formatting\n",
    "- 자세한 내용: https://github.com/brennerm/PyTricks/blob/master/namedformatting.py"
   ]
  },
  {
   "cell_type": "code",
   "execution_count": null,
   "metadata": {
    "ExecuteTime": {
     "end_time": "2018-10-21T09:20:29.674261Z",
     "start_time": "2018-10-21T09:20:29.668274Z"
    },
    "slideshow": {
     "slide_type": "-"
    }
   },
   "outputs": [],
   "source": [
    "formatted_string = '''\n",
    "이름: {name}\n",
    "소속: {affiliation}\n",
    "'''.format(name = '김영호', affiliation = '삼성SDS')"
   ]
  },
  {
   "cell_type": "code",
   "execution_count": null,
   "metadata": {
    "ExecuteTime": {
     "end_time": "2018-10-21T09:20:30.020831Z",
     "start_time": "2018-10-21T09:20:30.014813Z"
    },
    "slideshow": {
     "slide_type": "-"
    }
   },
   "outputs": [],
   "source": [
    "formatted_string"
   ]
  },
  {
   "cell_type": "markdown",
   "metadata": {
    "slideshow": {
     "slide_type": "subslide"
    }
   },
   "source": [
    "아래와 같이 정렬하면 가독성이 좋아집니다."
   ]
  },
  {
   "cell_type": "code",
   "execution_count": null,
   "metadata": {
    "ExecuteTime": {
     "end_time": "2018-10-21T09:20:41.173649Z",
     "start_time": "2018-10-21T09:20:41.169686Z"
    },
    "slideshow": {
     "slide_type": "-"
    }
   },
   "outputs": [],
   "source": [
    "formatted_string = '''\n",
    "이름: {name}\n",
    "소속: {affiliation}\n",
    "'''.format(\n",
    "    name        = '김영호', \n",
    "    affiliation = '삼성SDS'\n",
    ")"
   ]
  },
  {
   "cell_type": "markdown",
   "metadata": {
    "slideshow": {
     "slide_type": "-"
    }
   },
   "source": [
    "그리고 아래와 같은 hard coding 을 피하고 한 번에 formatting 하는 방법은 Part 2 Data Structure 부분에서 다루겠습니다."
   ]
  },
  {
   "cell_type": "markdown",
   "metadata": {
    "slideshow": {
     "slide_type": "subslide"
    }
   },
   "source": [
    "C-style string formatting 도 지원합니다."
   ]
  },
  {
   "cell_type": "code",
   "execution_count": null,
   "metadata": {
    "ExecuteTime": {
     "end_time": "2018-10-13T12:07:33.931070Z",
     "start_time": "2018-10-13T12:07:33.927080Z"
    },
    "slideshow": {
     "slide_type": "-"
    }
   },
   "outputs": [],
   "source": [
    "formatted_string = '%.6f  %03d' % (0.123456789, 1)"
   ]
  },
  {
   "cell_type": "code",
   "execution_count": null,
   "metadata": {
    "ExecuteTime": {
     "end_time": "2018-10-13T12:07:37.234256Z",
     "start_time": "2018-10-13T12:07:37.230243Z"
    },
    "slideshow": {
     "slide_type": "-"
    }
   },
   "outputs": [],
   "source": [
    "formatted_string"
   ]
  },
  {
   "cell_type": "markdown",
   "metadata": {
    "slideshow": {
     "slide_type": "subslide"
    }
   },
   "source": [
    "#### From Jupyter notebook cell"
   ]
  },
  {
   "cell_type": "code",
   "execution_count": null,
   "metadata": {
    "ExecuteTime": {
     "end_time": "2018-10-21T10:22:18.022993Z",
     "start_time": "2018-10-21T10:22:17.939191Z"
    },
    "slideshow": {
     "slide_type": "-"
    }
   },
   "outputs": [],
   "source": [
    "temp = !dir *.txt"
   ]
  },
  {
   "cell_type": "code",
   "execution_count": null,
   "metadata": {
    "ExecuteTime": {
     "end_time": "2018-10-21T10:22:18.669264Z",
     "start_time": "2018-10-21T10:22:18.663290Z"
    },
    "slideshow": {
     "slide_type": "-"
    }
   },
   "outputs": [],
   "source": [
    "temp"
   ]
  },
  {
   "cell_type": "markdown",
   "metadata": {
    "slideshow": {
     "slide_type": "subslide"
    }
   },
   "source": [
    "### 문자열 전처리\n",
    "- `strip()` : 양 끝 공백문자들 제거\n",
    "  - 공백문자: `\\t`, `\\n`, ` ` 등"
   ]
  },
  {
   "cell_type": "code",
   "execution_count": null,
   "metadata": {
    "ExecuteTime": {
     "end_time": "2018-10-21T06:10:58.592896Z",
     "start_time": "2018-10-21T06:10:58.589904Z"
    },
    "scrolled": false,
    "slideshow": {
     "slide_type": "-"
    }
   },
   "outputs": [],
   "source": [
    "multi_line_str = '''\n",
    "\n",
    "이름: 김영호\n",
    "직급: 책임컨설턴트\n",
    "소속: 데이터분석그룹\n",
    "\n",
    "'''"
   ]
  },
  {
   "cell_type": "code",
   "execution_count": null,
   "metadata": {
    "ExecuteTime": {
     "end_time": "2018-10-21T06:11:02.675840Z",
     "start_time": "2018-10-21T06:11:02.670832Z"
    },
    "slideshow": {
     "slide_type": "-"
    }
   },
   "outputs": [],
   "source": [
    "multi_line_str.strip()"
   ]
  },
  {
   "cell_type": "markdown",
   "metadata": {
    "slideshow": {
     "slide_type": "subslide"
    }
   },
   "source": [
    "`lstrip()`: 왼쪽부터 시작해서 공백 문자들 제거"
   ]
  },
  {
   "cell_type": "code",
   "execution_count": null,
   "metadata": {
    "ExecuteTime": {
     "end_time": "2018-10-13T11:19:17.834349Z",
     "start_time": "2018-10-13T11:19:17.829362Z"
    },
    "slideshow": {
     "slide_type": "-"
    }
   },
   "outputs": [],
   "source": [
    "multi_line_str"
   ]
  },
  {
   "cell_type": "code",
   "execution_count": null,
   "metadata": {
    "ExecuteTime": {
     "end_time": "2018-10-13T11:19:18.343987Z",
     "start_time": "2018-10-13T11:19:18.339036Z"
    },
    "slideshow": {
     "slide_type": "-"
    }
   },
   "outputs": [],
   "source": [
    "multi_line_str.lstrip()"
   ]
  },
  {
   "cell_type": "markdown",
   "metadata": {
    "slideshow": {
     "slide_type": "subslide"
    }
   },
   "source": [
    "`rstrip()`: 오른쪽부터 시작해서 공백 문자들 제거"
   ]
  },
  {
   "cell_type": "code",
   "execution_count": null,
   "metadata": {
    "ExecuteTime": {
     "end_time": "2018-10-13T11:19:20.122228Z",
     "start_time": "2018-10-13T11:19:20.117274Z"
    },
    "slideshow": {
     "slide_type": "-"
    }
   },
   "outputs": [],
   "source": [
    "multi_line_str"
   ]
  },
  {
   "cell_type": "code",
   "execution_count": null,
   "metadata": {
    "ExecuteTime": {
     "end_time": "2018-10-13T11:19:20.545096Z",
     "start_time": "2018-10-13T11:19:20.539113Z"
    },
    "slideshow": {
     "slide_type": "-"
    }
   },
   "outputs": [],
   "source": [
    "multi_line_str.rstrip()"
   ]
  },
  {
   "cell_type": "markdown",
   "metadata": {
    "ExecuteTime": {
     "end_time": "2018-10-13T12:39:08.983685Z",
     "start_time": "2018-10-13T12:39:08.978686Z"
    },
    "slideshow": {
     "slide_type": "subslide"
    }
   },
   "source": [
    "`replace()`: 특정 문자열 대체"
   ]
  },
  {
   "cell_type": "code",
   "execution_count": null,
   "metadata": {
    "ExecuteTime": {
     "end_time": "2018-10-21T06:15:26.625095Z",
     "start_time": "2018-10-21T06:15:26.622097Z"
    },
    "slideshow": {
     "slide_type": "-"
    }
   },
   "outputs": [],
   "source": [
    "one_line_str = '이름\\t김영호'"
   ]
  },
  {
   "cell_type": "code",
   "execution_count": null,
   "metadata": {
    "ExecuteTime": {
     "end_time": "2018-10-21T06:15:27.294836Z",
     "start_time": "2018-10-21T06:15:27.289851Z"
    },
    "slideshow": {
     "slide_type": "-"
    }
   },
   "outputs": [],
   "source": [
    "# \\t -> 4 spaces\n",
    "one_line_str.replace('\\t', '    ')"
   ]
  },
  {
   "cell_type": "markdown",
   "metadata": {
    "slideshow": {
     "slide_type": "-"
    }
   },
   "source": [
    "문자열을 나누고(`split()`) 합치는(`join()`) 방법은 2부에서 다루겠습니다."
   ]
  },
  {
   "cell_type": "markdown",
   "metadata": {
    "slideshow": {
     "slide_type": "subslide"
    }
   },
   "source": [
    "- 영문 대소문자 변환"
   ]
  },
  {
   "cell_type": "code",
   "execution_count": null,
   "metadata": {
    "ExecuteTime": {
     "end_time": "2018-10-13T11:41:13.366798Z",
     "start_time": "2018-10-13T11:41:13.360815Z"
    },
    "slideshow": {
     "slide_type": "-"
    }
   },
   "outputs": [],
   "source": [
    "'hello'.upper()"
   ]
  },
  {
   "cell_type": "code",
   "execution_count": null,
   "metadata": {
    "ExecuteTime": {
     "end_time": "2018-10-13T11:41:19.480440Z",
     "start_time": "2018-10-13T11:41:19.475487Z"
    },
    "slideshow": {
     "slide_type": "-"
    }
   },
   "outputs": [],
   "source": [
    "'HELLO'.lower()"
   ]
  },
  {
   "cell_type": "code",
   "execution_count": null,
   "metadata": {
    "ExecuteTime": {
     "end_time": "2018-10-21T06:12:21.479936Z",
     "start_time": "2018-10-21T06:12:21.473986Z"
    },
    "slideshow": {
     "slide_type": "-"
    }
   },
   "outputs": [],
   "source": [
    "'hello'.capitalize()"
   ]
  },
  {
   "cell_type": "markdown",
   "metadata": {
    "slideshow": {
     "slide_type": "subslide"
    }
   },
   "source": [
    "### 문자열 내용 조사"
   ]
  },
  {
   "cell_type": "markdown",
   "metadata": {
    "slideshow": {
     "slide_type": "-"
    }
   },
   "source": [
    "`count()`: 특정 문자열 등장 빈도 조사"
   ]
  },
  {
   "cell_type": "code",
   "execution_count": null,
   "metadata": {
    "ExecuteTime": {
     "end_time": "2018-10-13T11:28:09.430793Z",
     "start_time": "2018-10-13T11:28:09.425806Z"
    },
    "slideshow": {
     "slide_type": "-"
    }
   },
   "outputs": [],
   "source": [
    "multi_line_str"
   ]
  },
  {
   "cell_type": "code",
   "execution_count": null,
   "metadata": {
    "ExecuteTime": {
     "end_time": "2018-10-13T11:28:04.739235Z",
     "start_time": "2018-10-13T11:28:04.733222Z"
    },
    "slideshow": {
     "slide_type": "-"
    }
   },
   "outputs": [],
   "source": [
    "multi_line_str.count('\\n')"
   ]
  },
  {
   "cell_type": "markdown",
   "metadata": {
    "slideshow": {
     "slide_type": "subslide"
    }
   },
   "source": [
    "특정 문자열 존재 여부 파악"
   ]
  },
  {
   "cell_type": "code",
   "execution_count": null,
   "metadata": {
    "ExecuteTime": {
     "end_time": "2018-10-13T11:44:49.133486Z",
     "start_time": "2018-10-13T11:44:49.128499Z"
    },
    "slideshow": {
     "slide_type": "-"
    }
   },
   "outputs": [],
   "source": [
    "multi_line_str"
   ]
  },
  {
   "cell_type": "code",
   "execution_count": null,
   "metadata": {
    "ExecuteTime": {
     "end_time": "2018-10-13T11:39:52.573602Z",
     "start_time": "2018-10-13T11:39:52.569609Z"
    },
    "scrolled": true,
    "slideshow": {
     "slide_type": "-"
    }
   },
   "outputs": [],
   "source": [
    "'이름' in multi_line_str"
   ]
  },
  {
   "cell_type": "code",
   "execution_count": null,
   "metadata": {
    "ExecuteTime": {
     "end_time": "2018-10-13T11:45:11.671389Z",
     "start_time": "2018-10-13T11:45:11.666403Z"
    },
    "slideshow": {
     "slide_type": "-"
    }
   },
   "outputs": [],
   "source": [
    "'\\t' in multi_line_str"
   ]
  },
  {
   "cell_type": "markdown",
   "metadata": {
    "slideshow": {
     "slide_type": "subslide"
    }
   },
   "source": [
    "특정 문자열 존재 위치 파악"
   ]
  },
  {
   "cell_type": "code",
   "execution_count": null,
   "metadata": {
    "ExecuteTime": {
     "end_time": "2018-10-13T11:46:09.291503Z",
     "start_time": "2018-10-13T11:46:09.286517Z"
    },
    "slideshow": {
     "slide_type": "-"
    }
   },
   "outputs": [],
   "source": [
    "# 있으면 특정 위치: 0부터 시작\n",
    "multi_line_str.find('이름')"
   ]
  },
  {
   "cell_type": "code",
   "execution_count": null,
   "metadata": {
    "ExecuteTime": {
     "end_time": "2018-10-13T11:45:51.631607Z",
     "start_time": "2018-10-13T11:45:51.626620Z"
    },
    "slideshow": {
     "slide_type": "-"
    }
   },
   "outputs": [],
   "source": [
    "# 없으면 -1\n",
    "multi_line_str.find('\\t')"
   ]
  },
  {
   "cell_type": "markdown",
   "metadata": {
    "slideshow": {
     "slide_type": "subslide"
    }
   },
   "source": [
    "## Boolean: `True`, `False`"
   ]
  },
  {
   "cell_type": "code",
   "execution_count": null,
   "metadata": {
    "ExecuteTime": {
     "end_time": "2018-10-13T12:12:14.607162Z",
     "start_time": "2018-10-13T12:12:14.603172Z"
    },
    "slideshow": {
     "slide_type": "-"
    }
   },
   "outputs": [],
   "source": [
    "is_he_a_man = True"
   ]
  },
  {
   "cell_type": "code",
   "execution_count": null,
   "metadata": {
    "ExecuteTime": {
     "end_time": "2018-10-13T12:13:14.045349Z",
     "start_time": "2018-10-13T12:13:14.039325Z"
    },
    "slideshow": {
     "slide_type": "-"
    }
   },
   "outputs": [],
   "source": [
    "type(is_he_a_man) is bool"
   ]
  },
  {
   "cell_type": "code",
   "execution_count": null,
   "metadata": {
    "ExecuteTime": {
     "end_time": "2018-10-13T12:13:09.236174Z",
     "start_time": "2018-10-13T12:13:09.229193Z"
    },
    "slideshow": {
     "slide_type": "-"
    }
   },
   "outputs": [],
   "source": [
    "type(is_he_a_man) is int"
   ]
  },
  {
   "cell_type": "markdown",
   "metadata": {
    "slideshow": {
     "slide_type": "subslide"
    }
   },
   "source": [
    "### 연산"
   ]
  },
  {
   "cell_type": "code",
   "execution_count": null,
   "metadata": {
    "ExecuteTime": {
     "end_time": "2018-10-21T01:27:59.659914Z",
     "start_time": "2018-10-21T01:27:59.650943Z"
    },
    "slideshow": {
     "slide_type": "-"
    }
   },
   "outputs": [],
   "source": [
    "t = True\n",
    "f = False\n",
    "print(type(t)) # Prints \"<class 'bool'>\"\n",
    "print(t and f) # Logical AND; prints \"False\"\n",
    "print(t or f)  # Logical OR; prints \"True\"\n",
    "print(not t)   # Logical NOT; prints \"False\"\n",
    "print(t != f)  # Logical XOR; prints \"True\""
   ]
  },
  {
   "cell_type": "code",
   "execution_count": null,
   "metadata": {
    "ExecuteTime": {
     "end_time": "2018-10-21T07:07:36.282658Z",
     "start_time": "2018-10-21T07:07:36.278647Z"
    },
    "slideshow": {
     "slide_type": "subslide"
    }
   },
   "outputs": [],
   "source": [
    "\"\"\"chained comparison with all kind of operators\"\"\"\n",
    "a = 10\n",
    "print(1 < a < 50)\n",
    "print(10 == a < 20)\n",
    "print(9 == a < 20)"
   ]
  },
  {
   "cell_type": "markdown",
   "metadata": {
    "slideshow": {
     "slide_type": "-"
    }
   },
   "source": [
    "출처: https://github.com/brennerm/PyTricks/blob/master/chainedcomparison.py"
   ]
  },
  {
   "cell_type": "markdown",
   "metadata": {
    "slideshow": {
     "slide_type": "subslide"
    }
   },
   "source": [
    "## 숫자: `int`, `float`, `complex`\n",
    "- `int`: 정수형\n",
    "- `float`: 실수형\n",
    "- ~~`complex`: 복소수형~~\n",
    "\n",
    "큰 숫자도 알아서 처리\n"
   ]
  },
  {
   "cell_type": "markdown",
   "metadata": {
    "slideshow": {
     "slide_type": "subslide"
    }
   },
   "source": [
    "### 정의"
   ]
  },
  {
   "cell_type": "code",
   "execution_count": null,
   "metadata": {
    "ExecuteTime": {
     "end_time": "2018-10-13T11:55:49.812610Z",
     "start_time": "2018-10-13T11:55:49.808596Z"
    },
    "slideshow": {
     "slide_type": "-"
    }
   },
   "outputs": [],
   "source": [
    "days_of_year = 365"
   ]
  },
  {
   "cell_type": "code",
   "execution_count": null,
   "metadata": {
    "ExecuteTime": {
     "end_time": "2018-10-13T11:56:56.617228Z",
     "start_time": "2018-10-13T11:56:56.613241Z"
    },
    "slideshow": {
     "slide_type": "-"
    }
   },
   "outputs": [],
   "source": [
    "pi = 3.141592"
   ]
  },
  {
   "cell_type": "code",
   "execution_count": null,
   "metadata": {
    "ExecuteTime": {
     "end_time": "2018-10-13T11:58:10.431005Z",
     "start_time": "2018-10-13T11:58:10.427017Z"
    },
    "slideshow": {
     "slide_type": "-"
    }
   },
   "outputs": [],
   "source": [
    "large_number1 = 124567898765432123456789"
   ]
  },
  {
   "cell_type": "code",
   "execution_count": null,
   "metadata": {
    "ExecuteTime": {
     "end_time": "2018-10-13T11:58:26.123105Z",
     "start_time": "2018-10-13T11:58:26.119118Z"
    },
    "slideshow": {
     "slide_type": "-"
    }
   },
   "outputs": [],
   "source": [
    "large_number2 = 9876543212345678987654321"
   ]
  },
  {
   "cell_type": "markdown",
   "metadata": {
    "slideshow": {
     "slide_type": "subslide"
    }
   },
   "source": [
    "### 연산\n",
    "- 다른 언어랑 거의 같습니다. \n",
    "  - [참조1](http://cs231n.github.io/python-numpy-tutorial/#python-basic)\n",
    "  - [참조2](https://docs.python.org/3/library/stdtypes.html#numeric-types-int-float-complex)\n",
    "- `a ** b`: 제곱근 $a^b$\n",
    "  - `pow(a, b)`"
   ]
  },
  {
   "cell_type": "code",
   "execution_count": null,
   "metadata": {
    "ExecuteTime": {
     "end_time": "2018-10-21T01:33:14.191636Z",
     "start_time": "2018-10-21T01:33:14.186617Z"
    },
    "slideshow": {
     "slide_type": "subslide"
    }
   },
   "outputs": [],
   "source": [
    "x = 3\n",
    "print(type(x)) # Prints \"<class 'int'>\"\n",
    "print(x)       # Prints \"3\"\n",
    "print(x + 1)   # Addition; prints \"4\"\n",
    "print(x - 1)   # Subtraction; prints \"2\"\n",
    "print(x * 2)   # Multiplication; prints \"6\"\n",
    "print(x ** 2)  # Exponentiation; prints \"9\"\n",
    "x += 1\n",
    "print(x)  # Prints \"4\"\n",
    "x *= 2"
   ]
  },
  {
   "cell_type": "markdown",
   "metadata": {
    "slideshow": {
     "slide_type": "subslide"
    }
   },
   "source": [
    "- 편리한 내장 함수\n",
    "  - `divmod()`: 나머지와 몫 동시 계산"
   ]
  },
  {
   "cell_type": "code",
   "execution_count": null,
   "metadata": {
    "ExecuteTime": {
     "end_time": "2018-10-13T11:52:22.652265Z",
     "start_time": "2018-10-13T11:52:22.646280Z"
    },
    "slideshow": {
     "slide_type": "-"
    }
   },
   "outputs": [],
   "source": [
    "divmod(10, 3)"
   ]
  },
  {
   "cell_type": "markdown",
   "metadata": {
    "slideshow": {
     "slide_type": "subslide"
    }
   },
   "source": [
    "### 변환"
   ]
  },
  {
   "cell_type": "markdown",
   "metadata": {
    "slideshow": {
     "slide_type": "subslide"
    }
   },
   "source": [
    "#### 출력 형식 변환\n",
    "- `round()`"
   ]
  },
  {
   "cell_type": "code",
   "execution_count": null,
   "metadata": {
    "ExecuteTime": {
     "end_time": "2018-10-21T01:34:44.414965Z",
     "start_time": "2018-10-21T01:34:44.403968Z"
    },
    "slideshow": {
     "slide_type": "-"
    }
   },
   "outputs": [],
   "source": [
    "round(98.7654321, 3)"
   ]
  },
  {
   "cell_type": "markdown",
   "metadata": {
    "slideshow": {
     "slide_type": "subslide"
    }
   },
   "source": [
    "#### 형 변환"
   ]
  },
  {
   "cell_type": "markdown",
   "metadata": {
    "slideshow": {
     "slide_type": "-"
    }
   },
   "source": [
    "- `str` → `int`"
   ]
  },
  {
   "cell_type": "code",
   "execution_count": null,
   "metadata": {
    "ExecuteTime": {
     "end_time": "2018-10-13T12:09:33.828223Z",
     "start_time": "2018-10-13T12:09:33.822231Z"
    },
    "slideshow": {
     "slide_type": "-"
    }
   },
   "outputs": [],
   "source": [
    "int('12345')"
   ]
  },
  {
   "cell_type": "code",
   "execution_count": null,
   "metadata": {
    "ExecuteTime": {
     "end_time": "2018-10-13T12:10:14.240440Z",
     "start_time": "2018-10-13T12:10:14.236451Z"
    },
    "slideshow": {
     "slide_type": "-"
    }
   },
   "outputs": [],
   "source": [
    "five_digit_number = int('12345')"
   ]
  },
  {
   "cell_type": "code",
   "execution_count": null,
   "metadata": {
    "ExecuteTime": {
     "end_time": "2018-10-13T12:10:16.138362Z",
     "start_time": "2018-10-13T12:10:16.132378Z"
    },
    "slideshow": {
     "slide_type": "-"
    }
   },
   "outputs": [],
   "source": [
    "type(five_digit_number) is int"
   ]
  },
  {
   "cell_type": "markdown",
   "metadata": {
    "slideshow": {
     "slide_type": "subslide"
    }
   },
   "source": [
    "#### 진수 변환"
   ]
  },
  {
   "cell_type": "markdown",
   "metadata": {
    "slideshow": {
     "slide_type": "-"
    }
   },
   "source": [
    "16진수 → 10 진수"
   ]
  },
  {
   "cell_type": "code",
   "execution_count": null,
   "metadata": {
    "ExecuteTime": {
     "end_time": "2018-10-13T12:14:07.100463Z",
     "start_time": "2018-10-13T12:14:07.094504Z"
    },
    "slideshow": {
     "slide_type": "-"
    }
   },
   "outputs": [],
   "source": [
    "int('FF', 16)"
   ]
  },
  {
   "cell_type": "markdown",
   "metadata": {
    "slideshow": {
     "slide_type": "subslide"
    }
   },
   "source": [
    "10진수 → 16진수"
   ]
  },
  {
   "cell_type": "code",
   "execution_count": null,
   "metadata": {
    "ExecuteTime": {
     "end_time": "2018-10-13T12:16:05.383017Z",
     "start_time": "2018-10-13T12:16:05.378035Z"
    },
    "slideshow": {
     "slide_type": "-"
    }
   },
   "outputs": [],
   "source": [
    "'%X' % 255"
   ]
  },
  {
   "cell_type": "code",
   "execution_count": null,
   "metadata": {
    "ExecuteTime": {
     "end_time": "2018-10-13T12:16:10.405591Z",
     "start_time": "2018-10-13T12:16:10.400593Z"
    },
    "slideshow": {
     "slide_type": "-"
    }
   },
   "outputs": [],
   "source": [
    "'%x' % 255"
   ]
  },
  {
   "cell_type": "markdown",
   "metadata": {
    "slideshow": {
     "slide_type": "-"
    }
   },
   "source": [
    "16진수 ↔ 10 진수 변환은 색상을 다룰 때 자주 사용하지요."
   ]
  },
  {
   "cell_type": "markdown",
   "metadata": {
    "slideshow": {
     "slide_type": "subslide"
    }
   },
   "source": [
    "2진수 → 10진수"
   ]
  },
  {
   "cell_type": "code",
   "execution_count": null,
   "metadata": {
    "ExecuteTime": {
     "end_time": "2018-10-13T12:14:35.047795Z",
     "start_time": "2018-10-13T12:14:35.041812Z"
    },
    "slideshow": {
     "slide_type": "-"
    }
   },
   "outputs": [],
   "source": [
    "int('111', 2)"
   ]
  },
  {
   "cell_type": "markdown",
   "metadata": {
    "slideshow": {
     "slide_type": "-"
    }
   },
   "source": [
    "10진수 → 2진수"
   ]
  },
  {
   "cell_type": "code",
   "execution_count": null,
   "metadata": {
    "ExecuteTime": {
     "end_time": "2018-10-13T12:21:22.469005Z",
     "start_time": "2018-10-13T12:21:22.465000Z"
    },
    "slideshow": {
     "slide_type": "-"
    }
   },
   "outputs": [],
   "source": [
    "bin(10)"
   ]
  },
  {
   "cell_type": "markdown",
   "metadata": {
    "slideshow": {
     "slide_type": "subslide"
    }
   },
   "source": [
    "#### 기타 변환"
   ]
  },
  {
   "cell_type": "markdown",
   "metadata": {
    "slideshow": {
     "slide_type": "-"
    }
   },
   "source": [
    "ASCII 문자 → ASCII 코드"
   ]
  },
  {
   "cell_type": "code",
   "execution_count": null,
   "metadata": {
    "ExecuteTime": {
     "end_time": "2018-10-13T12:23:16.543796Z",
     "start_time": "2018-10-13T12:23:16.538811Z"
    },
    "slideshow": {
     "slide_type": "-"
    }
   },
   "outputs": [],
   "source": [
    "ord('A')"
   ]
  },
  {
   "cell_type": "markdown",
   "metadata": {
    "slideshow": {
     "slide_type": "-"
    }
   },
   "source": [
    "ASCII 코드 → ASCII 문자"
   ]
  },
  {
   "cell_type": "code",
   "execution_count": null,
   "metadata": {
    "ExecuteTime": {
     "end_time": "2018-10-13T12:24:09.732527Z",
     "start_time": "2018-10-13T12:24:09.727512Z"
    },
    "scrolled": true,
    "slideshow": {
     "slide_type": "-"
    }
   },
   "outputs": [],
   "source": [
    "chr(65)"
   ]
  },
  {
   "cell_type": "markdown",
   "metadata": {
    "slideshow": {
     "slide_type": "subslide"
    }
   },
   "source": [
    "## Swap, define variables at once"
   ]
  },
  {
   "cell_type": "code",
   "execution_count": null,
   "metadata": {
    "ExecuteTime": {
     "end_time": "2018-10-24T14:48:45.778280Z",
     "start_time": "2018-10-24T14:48:45.775282Z"
    },
    "slideshow": {
     "slide_type": "-"
    }
   },
   "outputs": [],
   "source": [
    "a = 1\n",
    "b = 2"
   ]
  },
  {
   "cell_type": "code",
   "execution_count": null,
   "metadata": {
    "ExecuteTime": {
     "end_time": "2018-10-24T14:48:50.751292Z",
     "start_time": "2018-10-24T14:48:50.748339Z"
    },
    "slideshow": {
     "slide_type": "-"
    }
   },
   "outputs": [],
   "source": [
    "b, a = a, b"
   ]
  },
  {
   "cell_type": "code",
   "execution_count": null,
   "metadata": {
    "ExecuteTime": {
     "end_time": "2018-10-24T14:48:55.299230Z",
     "start_time": "2018-10-24T14:48:55.288259Z"
    },
    "slideshow": {
     "slide_type": "-"
    }
   },
   "outputs": [],
   "source": [
    "a, b"
   ]
  },
  {
   "cell_type": "code",
   "execution_count": null,
   "metadata": {
    "ExecuteTime": {
     "end_time": "2018-10-24T14:49:48.549528Z",
     "start_time": "2018-10-24T14:49:48.545512Z"
    },
    "slideshow": {
     "slide_type": "subslide"
    }
   },
   "outputs": [],
   "source": [
    "a = 1\n",
    "b = 2\n",
    "c = 3"
   ]
  },
  {
   "cell_type": "code",
   "execution_count": null,
   "metadata": {
    "ExecuteTime": {
     "end_time": "2018-10-24T14:49:48.916114Z",
     "start_time": "2018-10-24T14:49:48.912126Z"
    },
    "slideshow": {
     "slide_type": "-"
    }
   },
   "outputs": [],
   "source": [
    "# Pythonic\n",
    "a, b, c = 1, 2, 3"
   ]
  },
  {
   "cell_type": "code",
   "execution_count": null,
   "metadata": {
    "ExecuteTime": {
     "end_time": "2018-10-24T14:49:49.719660Z",
     "start_time": "2018-10-24T14:49:49.716675Z"
    },
    "slideshow": {
     "slide_type": "-"
    }
   },
   "outputs": [],
   "source": [
    "c, b, a = a, b, c"
   ]
  },
  {
   "cell_type": "code",
   "execution_count": null,
   "metadata": {
    "ExecuteTime": {
     "end_time": "2018-10-24T14:49:50.204325Z",
     "start_time": "2018-10-24T14:49:50.200325Z"
    },
    "slideshow": {
     "slide_type": "-"
    }
   },
   "outputs": [],
   "source": [
    "a, b, c"
   ]
  },
  {
   "cell_type": "markdown",
   "metadata": {
    "slideshow": {
     "slide_type": "slide"
    }
   },
   "source": [
    "Part 1 끝"
   ]
  },
  {
   "cell_type": "markdown",
   "metadata": {
    "slideshow": {
     "slide_type": "skip"
    }
   },
   "source": [
    "참조\n",
    "- https://docs.python.org/ko/3/contents.html\n",
    "    - https://docs.python.org/ko/3/tutorial/index.html\n",
    "- https://docs.python.org/3.7/howto/\n",
    "- http://cs231n.github.io/python-numpy-tutorial/\n",
    "- [점프 투 파이썬](https://wikidocs.net/book/1)\n",
    "    - https://docs.python-guide.org/"
   ]
  }
 ],
 "metadata": {
  "celltoolbar": "Slideshow",
  "kernelspec": {
   "display_name": "Python 3",
   "language": "python",
   "name": "python3"
  },
  "language_info": {
   "codemirror_mode": {
    "name": "ipython",
    "version": 3
   },
   "file_extension": ".py",
   "mimetype": "text/x-python",
   "name": "python",
   "nbconvert_exporter": "python",
   "pygments_lexer": "ipython3",
   "version": "3.7.0"
  },
  "livereveal": {
   "scroll": true,
   "theme": "simple",
   "transition": "convex"
  },
  "toc": {
   "base_numbering": "0",
   "nav_menu": {
    "height": "192px",
    "width": "252px"
   },
   "number_sections": true,
   "sideBar": true,
   "skip_h1_title": false,
   "title_cell": "Table of Contents",
   "title_sidebar": "Contents",
   "toc_cell": false,
   "toc_position": {
    "height": "calc(100% - 180px)",
    "left": "10px",
    "top": "150px",
    "width": "301.6px"
   },
   "toc_section_display": true,
   "toc_window_display": true
  },
  "varInspector": {
   "cols": {
    "lenName": 16,
    "lenType": 16,
    "lenVar": 40
   },
   "kernels_config": {
    "python": {
     "delete_cmd_postfix": "",
     "delete_cmd_prefix": "del ",
     "library": "var_list.py",
     "varRefreshCmd": "print(var_dic_list())"
    },
    "r": {
     "delete_cmd_postfix": ") ",
     "delete_cmd_prefix": "rm(",
     "library": "var_list.r",
     "varRefreshCmd": "cat(var_dic_list()) "
    }
   },
   "types_to_exclude": [
    "module",
    "function",
    "builtin_function_or_method",
    "instance",
    "_Feature"
   ],
   "window_display": false
  }
 },
 "nbformat": 4,
 "nbformat_minor": 2
}
