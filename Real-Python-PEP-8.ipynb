{
 "cells": [
  {
   "cell_type": "markdown",
   "metadata": {},
   "source": [
    "Source: https://realpython.com/python-pep8/"
   ]
  },
  {
   "cell_type": "markdown",
   "metadata": {},
   "source": [
    "How to Write Beautiful Python Code With PEP 8\n",
    "\n",
    "by Jasmine Finer"
   ]
  },
  {
   "cell_type": "markdown",
   "metadata": {},
   "source": [
    "# Why We Need PEP 8\n",
    "> “Readability counts.”\n",
    ">\n",
    "> — The Zen of Python\n",
    "\n",
    "> “Code is read much more often than it is written.”\n",
    ">\n",
    "> — Guido van Rossum\n",
    "\n",
    "> “Any fool can write code that a computer can understand,\n",
    "> \n",
    ">  good programmers write code that humans can understand.”\n",
    "> \n",
    "> — Martin Fowler\n",
    "\n",
    "\n",
    "- Open source collaboration"
   ]
  },
  {
   "cell_type": "code",
   "execution_count": 3,
   "metadata": {
    "ExecuteTime": {
     "end_time": "2019-01-20T11:25:45.871989Z",
     "start_time": "2019-01-20T11:25:45.855048Z"
    }
   },
   "outputs": [
    {
     "name": "stdout",
     "output_type": "stream",
     "text": [
      "The Zen of Python, by Tim Peters\n",
      "\n",
      "Beautiful is better than ugly.\n",
      "Explicit is better than implicit.\n",
      "Simple is better than complex.\n",
      "Complex is better than complicated.\n",
      "Flat is better than nested.\n",
      "Sparse is better than dense.\n",
      "Readability counts.\n",
      "Special cases aren't special enough to break the rules.\n",
      "Although practicality beats purity.\n",
      "Errors should never pass silently.\n",
      "Unless explicitly silenced.\n",
      "In the face of ambiguity, refuse the temptation to guess.\n",
      "There should be one-- and preferably only one --obvious way to do it.\n",
      "Although that way may not be obvious at first unless you're Dutch.\n",
      "Now is better than never.\n",
      "Although never is often better than *right* now.\n",
      "If the implementation is hard to explain, it's a bad idea.\n",
      "If the implementation is easy to explain, it may be a good idea.\n",
      "Namespaces are one honking great idea -- let's do more of those!\n"
     ]
    }
   ],
   "source": [
    "import this"
   ]
  },
  {
   "cell_type": "markdown",
   "metadata": {},
   "source": [
    "# Naming Conventions\n",
    "> “Explicit is better than implicit.”\n",
    "> \n",
    "> — The Zen of Python\n",
    "\n",
    "Note: Never use l, O, or I single letter names as these can be mistaken for 1 and 0, depending on typeface:\n",
    "\n",
    "```python\n",
    "O = 2  # This may look like you're trying to reassign 2 to zero\n",
    "```"
   ]
  },
  {
   "cell_type": "markdown",
   "metadata": {},
   "source": [
    "## Naming Styles\n",
    "Type | Naming Convention | Examples\n",
    "-----|-------------------|---------\n",
    "Function | Use a lowercase word or words. Separate words by underscores to improve readability. | function, my_function\n",
    "Variable | Use a lowercase single letter, word, or words. Separate words with underscores to improve readability. | x, var, my_variable\n",
    "Class | Start each word with a capital letter. Do not separate words with underscores. This style is called camel case. | Model, MyClass\n",
    "Method | Use a lowercase word or words. Separate words with underscores to improve readability. | class_method, method\n",
    "Constant | Use an uppercase single letter, word, or words. Separate words with underscores to improve readability.\t| CONSTANT, MY_CONSTANT, MY_LONG_CONSTANT\n",
    "Module | Use a short, lowercase word or words. Separate words with underscores to improve readability. | module.py, my_module.py\n",
    "Package | Use a short, lowercase word or words. Do not separate words with underscores.\t| package, mypackage"
   ]
  },
  {
   "cell_type": "markdown",
   "metadata": {},
   "source": [
    "## How to Choose Names\n",
    "### Variable\n",
    "```python\n",
    ">>> # Not recommended\n",
    ">>> x = 'John Smith'\n",
    ">>> y, z = x.split()\n",
    ">>> print(z, y, sep=', ')\n",
    "'Smith, John'\n",
    "```\n",
    "\n",
    "```python\n",
    ">>> # Recommended\n",
    ">>> name = 'John Smith'\n",
    ">>> first_name, last_name = name.split()\n",
    ">>> print(last_name, first_name, sep=', ')\n",
    "'Smith, John'\n",
    "```\n",
    "\n",
    "### Method\n",
    "```python\n",
    "# Not recommended\n",
    "def db(x):\n",
    "    return x * 2\n",
    "```\n",
    "\n",
    "```python\n",
    "# Recommended\n",
    "def multiply_by_two(x):\n",
    "    return x * 2\n",
    "```"
   ]
  },
  {
   "cell_type": "markdown",
   "metadata": {},
   "source": [
    "# Code Layout\n",
    "> “Beautiful is better than ugly.”\n",
    "> \n",
    "> — The Zen of Python"
   ]
  },
  {
   "cell_type": "markdown",
   "metadata": {},
   "source": [
    "## Blank Lines\n",
    "- Surround method definitions inside classes with a single blank line.\n",
    "\n",
    "```python\n",
    "class MyClass:\n",
    "    def first_method(self):\n",
    "        return None\n",
    "\n",
    "    def second_method(self):\n",
    "        return None\n",
    "```\n",
    "\n",
    "\n",
    "- Use blank lines sparingly inside functions to show clear steps.\n",
    "\n",
    "```python\n",
    "def calculate_variance(number_list):\n",
    "    sum_list = 0\n",
    "    for number in number_list:\n",
    "        sum_list = sum_list + number\n",
    "    mean = sum_list / len(number_list)\n",
    "\n",
    "    sum_squares = 0\n",
    "    for number in number_list:\n",
    "        sum_squares = sum_squares + number**2\n",
    "    mean_squares = sum_squares / len(number_list)\n",
    "\n",
    "    return mean_squares - mean**2\n",
    "```"
   ]
  },
  {
   "cell_type": "markdown",
   "metadata": {},
   "source": [
    "## Maximum Line Length and Line Breaking\n",
    "\n",
    "Max Line Length: 79 characters\n",
    "\n",
    "```python\n",
    "def function(arg_one, arg_two,\n",
    "             arg_three, arg_four):\n",
    "    return arg_one\n",
    "```\n",
    "\n",
    "Line Breaking \n",
    "\n",
    "```python\n",
    "from mypkg import example1, \\\n",
    "    example2, example3\n",
    "```\n",
    "\n",
    "```python\n",
    "# Recommended\n",
    "total = (first_variable\n",
    "         + second_variable\n",
    "         - third_variable)\n",
    "```\n",
    "\n",
    "```python\n",
    "# Not Recommended\n",
    "total = (first_variable +\n",
    "         second_variable -\n",
    "         third_variable)\n",
    "```"
   ]
  },
  {
   "cell_type": "markdown",
   "metadata": {},
   "source": [
    "# Indentation\n",
    "> “There should be one—and preferably only one—obvious way to do it.”\n",
    "> \n",
    "> — The Zen of Python\n",
    "\n",
    "Indentation: 4 characters\n",
    "\n",
    "```python\n",
    "x = 3\n",
    "if x > 5:\n",
    "    print('x is larger than 5')\n",
    "```\n",
    "\n",
    "- Use **4 consecutive spaces** to indicate indentation.\n",
    "- Prefer **spaces** over tabs."
   ]
  },
  {
   "cell_type": "markdown",
   "metadata": {},
   "source": [
    "## Indentation Following Line Breaks"
   ]
  },
  {
   "cell_type": "markdown",
   "metadata": {},
   "source": [
    "```python\n",
    "x = 5\n",
    "if (x > 3 and\n",
    "    x < 10):\n",
    "    print(x)\n",
    "```\n",
    "\n",
    "- Add a comment after the final condition. Due to syntax highlighting in most editors, this will separate the conditions from the nested code:\n",
    "\n",
    "```python\n",
    "x = 5\n",
    "if (x > 3 and\n",
    "    x < 10):\n",
    "    # Both conditions satisfied\n",
    "    print(x)\n",
    "```\n",
    "\n",
    "- Add extra indentation on the line continuation:\n",
    "\n",
    "```python\n",
    "x = 5\n",
    "if (x > 3 and\n",
    "        x < 10):\n",
    "    print(x)\n",
    "```"
   ]
  },
  {
   "cell_type": "markdown",
   "metadata": {},
   "source": [
    "- hanging indent\n",
    "\n",
    "```python\n",
    "var = function(\n",
    "    arg_one, arg_two,\n",
    "    arg_three, arg_four)\n",
    "```\n",
    "\n",
    "```python\n",
    "# Not Recommended\n",
    "var = function(arg_one, arg_two,\n",
    "    arg_three, arg_four)\n",
    "```\n",
    "\n",
    "\n",
    "```python\n",
    "# Not Recommended\n",
    "def function(\n",
    "    arg_one, arg_two,\n",
    "    arg_three, arg_four):\n",
    "    return arg_one\n",
    "```\n",
    "\n",
    "\n",
    "```python\n",
    "# Better\n",
    "def function(\n",
    "        arg_one, arg_two,\n",
    "        arg_three, arg_four):\n",
    "    return arg_one\n",
    "```"
   ]
  },
  {
   "cell_type": "markdown",
   "metadata": {},
   "source": [
    "## Where to Put the Closing Brace\n",
    "- Line up the closing brace with the first non-whitespace character of the previous line:\n",
    "\n",
    "```python\n",
    "list_of_numbers = [\n",
    "    1, 2, 3,\n",
    "    4, 5, 6,\n",
    "    7, 8, 9\n",
    "    ]\n",
    "```\n",
    "\n",
    "- Line up the closing brace with the first character of the line that starts the construct:\n",
    "\n",
    "```python\n",
    "list_of_numbers = [\n",
    "    1, 2, 3,\n",
    "    4, 5, 6,\n",
    "    7, 8, 9\n",
    "]\n",
    "```\n",
    "\n",
    "You are free to chose which option you use. But, as always, **consistency is key**, so try to stick to one of the above methods."
   ]
  },
  {
   "cell_type": "markdown",
   "metadata": {},
   "source": [
    "# Comments\n",
    "> “If the implementation is hard to explain, it’s a bad idea.”\n",
    "> \n",
    "> — The Zen of Python\n",
    "\n",
    "- Limit the line length of comments and docstrings to 72 characters.\n",
    "- Use complete sentences, starting with a capital letter.\n",
    "- Make sure to update comments if you change your code."
   ]
  },
  {
   "cell_type": "markdown",
   "metadata": {},
   "source": [
    "## Block Comments\n",
    "- Indent block comments to the same level as the code they describe.\n",
    "- Start each line with a # followed by a single space.\n",
    "- Separate paragraphs by a line containing a single #.\n",
    "\n",
    "```python\n",
    "x = 'John Smith'  # Student Name\n",
    "```\n",
    "\n",
    "```python\n",
    "student_name = 'John Smith'\n",
    "```\n",
    "\n",
    "```python\n",
    "empty_list = []  # Initialize empty list\n",
    "\n",
    "x = 5\n",
    "x = x * 5  # Multiply x by 5\n",
    "```"
   ]
  },
  {
   "cell_type": "markdown",
   "metadata": {},
   "source": [
    "## Documentation Strings\n",
    "- Surround docstrings with three double quotes on either side, as in `\"\"\"This is a docstring\"\"\"`.\n",
    "\n",
    "- Write them for all public modules, functions, classes, and methods.\n",
    "\n",
    "- Put the \"\"\" that ends a multiline docstring on a line by itself:\n",
    "\n",
    "```python\n",
    "def quadratic(a, b, c, x):\n",
    "    \"\"\"Solve quadratic equation via the quadratic formula.\n",
    "\n",
    "    A quadratic equation has the following form:\n",
    "    ax**2 + bx + c = 0\n",
    "\n",
    "    There always two solutions to a quadratic equation: x_1 & x_2.\n",
    "    \"\"\"\n",
    "    x_1 = (- b+(b**2-4*a*c)**(1/2)) / (2*a)\n",
    "    x_2 = (- b-(b**2-4*a*c)**(1/2)) / (2*a)\n",
    "\n",
    "    return x_1, x_2\n",
    "```\n",
    "\n",
    "- For one-line docstrings, keep the \"\"\" on the same line:\n",
    "\n",
    "```python\n",
    "def quadratic(a, b, c, x):\n",
    "    \"\"\"Use the quadratic formula\"\"\"\n",
    "    x_1 = (- b+(b**2-4*a*c)**(1/2)) / (2*a)\n",
    "    x_2 = (- b-(b**2-4*a*c)**(1/2)) / (2*a)\n",
    "\n",
    "    return x_1, x_2\n",
    "```"
   ]
  },
  {
   "cell_type": "markdown",
   "metadata": {},
   "source": [
    "# Whitespace in Expressions and Statements\n",
    "> “Sparse is better than dense.”\n",
    "> \n",
    "> — The Zen of Python\n"
   ]
  },
  {
   "cell_type": "markdown",
   "metadata": {},
   "source": [
    "```python\n",
    "# Recommended\n",
    "def function(default_parameter=5):\n",
    "    # ...\n",
    "\n",
    "\n",
    "# Not recommended\n",
    "def function(default_parameter = 5):\n",
    "    # ...\n",
    "```"
   ]
  },
  {
   "cell_type": "markdown",
   "metadata": {},
   "source": [
    "```python\n",
    "# Recommended\n",
    "y = x**2 + 5\n",
    "z = (x+y) * (x-y)\n",
    "\n",
    "# Not Recommended\n",
    "y = x ** 2 + 5\n",
    "z = (x + y) * (x - y)\n",
    "```"
   ]
  },
  {
   "cell_type": "markdown",
   "metadata": {},
   "source": [
    "```python\n",
    "# Not recommended\n",
    "if x > 5 and x % 2 == 0:\n",
    "    print('x is larger than 5 and divisible by 2!')\n",
    "```\n",
    "\n",
    "```python\n",
    "# Recommended\n",
    "if x>5 and x%2==0:\n",
    "    print('x is larger than 5 and divisible by 2!')\n",
    "```"
   ]
  },
  {
   "cell_type": "markdown",
   "metadata": {},
   "source": [
    "## When to Avoid Adding Whitespace\n",
    "\n",
    "- Immediately inside parentheses, brackets, or braces:\n",
    "\n",
    "```python\n",
    "# Recommended\n",
    "my_list = [1, 2, 3]\n",
    "\n",
    "# Not recommended\n",
    "my_list = [ 1, 2, 3, ]\n",
    "```"
   ]
  },
  {
   "cell_type": "markdown",
   "metadata": {},
   "source": [
    "- Before a comma, semicolon, or colon:\n",
    "\n",
    "```python\n",
    "x = 5\n",
    "y = 6\n",
    "\n",
    "# Recommended\n",
    "print(x, y)\n",
    "\n",
    "# Not recommended\n",
    "print(x , y)\n",
    "```"
   ]
  },
  {
   "cell_type": "markdown",
   "metadata": {},
   "source": [
    "- Before the open parenthesis that starts the argument list of a function call:\n",
    "\n",
    "```python\n",
    "def double(x):\n",
    "    return x * 2\n",
    "\n",
    "# Recommended\n",
    "double(3)\n",
    "\n",
    "# Not recommended\n",
    "double (3)\n",
    "```"
   ]
  },
  {
   "cell_type": "markdown",
   "metadata": {},
   "source": [
    "- Before the open bracket that starts an index or slice:\n",
    "\n",
    "```python\n",
    "# Recommended\n",
    "list[3]\n",
    "\n",
    "# Not recommended\n",
    "list [3]\n",
    "```"
   ]
  },
  {
   "cell_type": "markdown",
   "metadata": {},
   "source": [
    "- Between a trailing comma and a closing parenthesis:\n",
    "\n",
    "```python\n",
    "# Recommended\n",
    "tuple = (1,)\n",
    "\n",
    "# Not recommended\n",
    "tuple = (1, )\n",
    "```"
   ]
  },
  {
   "cell_type": "markdown",
   "metadata": {},
   "source": [
    "- To align assignment operators:\n",
    "\n",
    "```python\n",
    "# Recommended\n",
    "var1 = 5\n",
    "var2 = 6\n",
    "some_long_var = 7\n",
    "\n",
    "# Not recommended\n",
    "var1          = 5\n",
    "var2          = 6\n",
    "some_long_var = 7\n",
    "```"
   ]
  },
  {
   "cell_type": "markdown",
   "metadata": {},
   "source": [
    "# Programming Recommendations\n",
    "> “Simple is better than complex.”\n",
    "> \n",
    "> — The Zen of Python"
   ]
  },
  {
   "cell_type": "markdown",
   "metadata": {},
   "source": [
    "Don’t compare boolean values to `True` or `False` using the equivalence operator."
   ]
  },
  {
   "cell_type": "markdown",
   "metadata": {},
   "source": [
    "```python\n",
    "# Not recommended\n",
    "my_bool = 6 > 5\n",
    "if my_bool == True:\n",
    "    return '6 is bigger than 5'\n",
    "```\n",
    "\n",
    "\n",
    "```python\n",
    "# Recommended\n",
    "if my_bool:\n",
    "    return '6 is bigger than 5'\n",
    "```"
   ]
  },
  {
   "cell_type": "markdown",
   "metadata": {},
   "source": [
    "Use the fact that empty sequences are falsy in `if` statements. \n",
    "\n",
    "```python\n",
    "# Not recommended\n",
    "my_list = []\n",
    "if not len(my_list):\n",
    "    print('List is empty!')\n",
    "```\n",
    "\n",
    "\n",
    "```python\n",
    "# Recommended\n",
    "my_list = []\n",
    "if not my_list:\n",
    "    print('List is empty!')\n",
    "```"
   ]
  },
  {
   "cell_type": "markdown",
   "metadata": {},
   "source": [
    "Use `is not` rather than `not ... is` in `if` statements.\n",
    "\n",
    "```python\n",
    "# Recommended\n",
    "if x is not None:\n",
    "    return 'x exists!'\n",
    "```\n",
    "\n",
    "\n",
    "```python\n",
    "# Not recommended\n",
    "if not x is None:\n",
    "    return 'x exists!'\n",
    "```"
   ]
  },
  {
   "cell_type": "markdown",
   "metadata": {},
   "source": [
    "Don’t use `if x:` when you mean`if x is not None:` \n",
    "\n",
    "```python\n",
    "# Not Recommended\n",
    "if arg:\n",
    "    # Do something with arg...\n",
    "```\n",
    "\n",
    "\n",
    "```python\n",
    "# Recommended\n",
    "if arg is not None:\n",
    "    # Do something with arg...\n",
    "```"
   ]
  },
  {
   "cell_type": "markdown",
   "metadata": {},
   "source": [
    "Use `.startswith()` and `.endswith()` instead of slicing\n",
    "\n",
    "```python\n",
    "# Not recommended\n",
    "if word[:3] == 'cat':\n",
    "    print('The word starts with \"cat\"')\n",
    "```\n",
    "\n",
    "\n",
    "```python\n",
    "# Recommended\n",
    "if word.startswith('cat'):\n",
    "    print('The word starts with \"cat\"')\n",
    "```"
   ]
  },
  {
   "cell_type": "markdown",
   "metadata": {},
   "source": [
    "```python\n",
    "# Not recommended\n",
    "if file_name[-3:] == 'jpg':\n",
    "    print('The file is a JPEG')\n",
    "```\n",
    "\n",
    "\n",
    "```python\n",
    "# Recommended\n",
    "if file_name.endswith('jpg'):\n",
    "    print('The file is a JPEG')\n",
    "```\n",
    "\n",
    "- Readability & Simplicity"
   ]
  },
  {
   "cell_type": "markdown",
   "metadata": {},
   "source": [
    "# When to Ignore PEP 8\n",
    "- If complying with PEP 8 would break compatibility with existing software\n",
    "- If code surrounding what you’re working on is inconsistent with PEP 8\n",
    "- If code needs to remain compatible with older versions of Python"
   ]
  },
  {
   "cell_type": "markdown",
   "metadata": {},
   "source": [
    "# More info\n",
    "- https://realpython.com/python-pep8/"
   ]
  },
  {
   "cell_type": "code",
   "execution_count": null,
   "metadata": {},
   "outputs": [],
   "source": []
  }
 ],
 "metadata": {
  "kernelspec": {
   "display_name": "Python 3",
   "language": "python",
   "name": "python3"
  },
  "language_info": {
   "codemirror_mode": {
    "name": "ipython",
    "version": 3
   },
   "file_extension": ".py",
   "mimetype": "text/x-python",
   "name": "python",
   "nbconvert_exporter": "python",
   "pygments_lexer": "ipython3",
   "version": "3.7.0"
  },
  "toc": {
   "base_numbering": 1,
   "nav_menu": {},
   "number_sections": true,
   "sideBar": true,
   "skip_h1_title": false,
   "title_cell": "Table of Contents",
   "title_sidebar": "Contents",
   "toc_cell": false,
   "toc_position": {},
   "toc_section_display": true,
   "toc_window_display": true
  }
 },
 "nbformat": 4,
 "nbformat_minor": 2
}
